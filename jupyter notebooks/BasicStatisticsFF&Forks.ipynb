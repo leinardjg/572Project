{
 "cells": [
  {
   "cell_type": "code",
   "execution_count": 3,
   "id": "996db633",
   "metadata": {},
   "outputs": [],
   "source": [
    "# Importing the required libraries\n",
    "\n",
    "import numpy as np\n",
    "import networkx as nx\n",
    "import matplotlib.pyplot as plt\n",
    "import matplotlib as mpl\n",
    "%matplotlib inline"
   ]
  },
  {
   "cell_type": "code",
   "execution_count": 4,
   "id": "75db3e3e",
   "metadata": {},
   "outputs": [],
   "source": [
    "#read the edge file with \n",
    "G = nx.read_edgelist('./forks.csv',\n",
    "                     create_using=nx.DiGraph(), delimiter = ', ')"
   ]
  },
  {
   "cell_type": "code",
   "execution_count": 7,
   "id": "ed9dbc3e",
   "metadata": {},
   "outputs": [
    {
     "name": "stdout",
     "output_type": "stream",
     "text": [
      "Forks Network's Number of Nodes: 2351\n",
      "Forks Network's Number of Edges: 6035\n"
     ]
    }
   ],
   "source": [
    "print(\"Forks Network's Number of Nodes:\", G.number_of_nodes())\n",
    "print(\"Forks Network's Number of Edges:\", G.number_of_edges())"
   ]
  },
  {
   "cell_type": "code",
   "execution_count": 9,
   "id": "7d17870d",
   "metadata": {},
   "outputs": [
    {
     "name": "stdout",
     "output_type": "stream",
     "text": [
      "1917\n"
     ]
    }
   ],
   "source": [
    "# calculating the number of strongly connected components in dirceted graph\n",
    "Strongly_Connected_Num = nx.number_strongly_connected_components(G)\n",
    "print(Strongly_Connected_Num) "
   ]
  },
  {
   "cell_type": "code",
   "execution_count": 11,
   "id": "58f246fb",
   "metadata": {},
   "outputs": [
    {
     "name": "stdout",
     "output_type": "stream",
     "text": [
      "55\n"
     ]
    }
   ],
   "source": [
    "# calculating the number of strongly connected components in dirceted graph\n",
    "print(nx.number_weakly_connected_components(G))"
   ]
  },
  {
   "cell_type": "code",
   "execution_count": 15,
   "id": "f0d25ed3",
   "metadata": {},
   "outputs": [
    {
     "name": "stdout",
     "output_type": "stream",
     "text": [
      "394\n",
      "Average Shortest Path Length:  5.989886464912621\n",
      "Average Clustering Coefficient:  0.044183339705234546\n"
     ]
    }
   ],
   "source": [
    "# calculating average shortest path length of \n",
    "# the largest Strongly Connected Component of the Graph G \n",
    "\n",
    "#getting the largest stronlgy connected component (LSCC)\n",
    "largest = max(nx.strongly_connected_components(G), key=len)\n",
    "print(len(largest))\n",
    "\n",
    "#Making a sub graph of LSCC\n",
    "CC = G.subgraph(largest).copy()\n",
    "\n",
    "C = np.mean(list(nx.clustering(G).values()))\n",
    "\n",
    "#Calculating LSCC's shortest path length\n",
    "d = nx.average_shortest_path_length(CC)\n",
    "\n",
    "print(\"Average Shortest Path Length: \", d)\n",
    "\n",
    "print(\"Average Clustering Coefficient: \", C)\n"
   ]
  },
  {
   "cell_type": "code",
   "execution_count": 12,
   "id": "269f955b",
   "metadata": {},
   "outputs": [],
   "source": [
    "#read the edge file with \n",
    "G2 = nx.read_edgelist('./edges.csv',\n",
    "                     create_using=nx.DiGraph(), delimiter = ', ')"
   ]
  },
  {
   "cell_type": "code",
   "execution_count": 13,
   "id": "a9fa6d2b",
   "metadata": {},
   "outputs": [
    {
     "name": "stdout",
     "output_type": "stream",
     "text": [
      "3010\n",
      "17401\n"
     ]
    }
   ],
   "source": [
    "#degrees = [G.in_degree(n) for n in G.nodes()]\n",
    "\n",
    "print(G2.number_of_nodes())\n",
    "print(G2.number_of_edges())"
   ]
  },
  {
   "cell_type": "code",
   "execution_count": 14,
   "id": "c85bc5d6",
   "metadata": {},
   "outputs": [
    {
     "name": "stdout",
     "output_type": "stream",
     "text": [
      "20\n",
      "1919\n"
     ]
    }
   ],
   "source": [
    "# calculating the number of strongly connected components in dirceted graph\n",
    "print(nx.number_weakly_connected_components(G2))\n",
    "\n",
    "# calculating the number of strongly connected components in dirceted graph\n",
    "print(nx.number_strongly_connected_components(G2))\n"
   ]
  },
  {
   "cell_type": "code",
   "execution_count": 18,
   "id": "b6fdfa1f",
   "metadata": {},
   "outputs": [
    {
     "name": "stdout",
     "output_type": "stream",
     "text": [
      "1017\n",
      "Average Shortest Path Length:  5.183995114548734\n",
      "Average Clustering Coefficient:  0.12110959357559899\n"
     ]
    }
   ],
   "source": [
    "# calculating average shortest path length of \n",
    "# the largest Strongly Connected Component of the Graph G \n",
    "\n",
    "#getting the largest stronlgy connected component (LSCC)\n",
    "largest = max(nx.strongly_connected_components(G2), key=len)\n",
    "print(len(largest))\n",
    "\n",
    "#Making a sub graph of LSCC\n",
    "CC = G2.subgraph(largest).copy()\n",
    "\n",
    "C = np.mean(list(nx.clustering(G2).values()))\n",
    "\n",
    "#Calculating LSCC's shortest path length\n",
    "d = nx.average_shortest_path_length(CC)\n",
    "\n",
    "print(\"Average Shortest Path Length: \", d)\n",
    "\n",
    "print(\"Average Clustering Coefficient: \", C)"
   ]
  }
 ],
 "metadata": {
  "kernelspec": {
   "display_name": "Python 3 (ipykernel)",
   "language": "python",
   "name": "python3"
  },
  "language_info": {
   "codemirror_mode": {
    "name": "ipython",
    "version": 3
   },
   "file_extension": ".py",
   "mimetype": "text/x-python",
   "name": "python",
   "nbconvert_exporter": "python",
   "pygments_lexer": "ipython3",
   "version": "3.9.12"
  }
 },
 "nbformat": 4,
 "nbformat_minor": 5
}
