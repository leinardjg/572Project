{
 "cells": [
  {
   "cell_type": "code",
   "execution_count": 86,
   "id": "703ec586",
   "metadata": {},
   "outputs": [],
   "source": [
    "# Importing the required libraries\n",
    "\n",
    "#import community as community_louvain\n",
    "\n",
    "import numpy as np\n",
    "import networkx as nx\n",
    "import scipy as sp\n",
    "\n",
    "import networkx.algorithms.community as nx_comm\n",
    "%matplotlib inline\n"
   ]
  },
  {
   "cell_type": "code",
   "execution_count": 87,
   "id": "d3ac33a6",
   "metadata": {},
   "outputs": [
    {
     "data": {
      "text/plain": [
       "{'divide': 'warn', 'over': 'warn', 'under': 'ignore', 'invalid': 'ignore'}"
      ]
     },
     "execution_count": 87,
     "metadata": {},
     "output_type": "execute_result"
    }
   ],
   "source": [
    "np.seterr(invalid='ignore')"
   ]
  },
  {
   "cell_type": "code",
   "execution_count": 88,
   "id": "070c4fef",
   "metadata": {},
   "outputs": [],
   "source": [
    "NODES_FILE = './nodes_repo_Com_FFForks.csv'"
   ]
  },
  {
   "cell_type": "code",
   "execution_count": 90,
   "id": "5128f3fc",
   "metadata": {},
   "outputs": [],
   "source": [
    "G = nx.read_edgelist('./forks_final_all.csv',\n",
    "                     create_using=nx.MultiDiGraph(), delimiter = ', ')"
   ]
  },
  {
   "cell_type": "code",
   "execution_count": 117,
   "id": "a6a6ca5b",
   "metadata": {},
   "outputs": [],
   "source": [
    "#sets communities node attribute to node\n",
    "nodesFile = open(NODES_FILE, 'r')\n",
    "record = {}\n",
    "# skip headers\n",
    "#nodesFile.readline()\n",
    "\n",
    "# store nodes in record\n",
    "for line in nodesFile:\n",
    "    \n",
    "    toRecord = line.split(\", \")\n",
    "    #print(toRecord)\n",
    "    if (toRecord[3] != '-1 \\n'):\n",
    "        record[toRecord[0]] = int(toRecord[3].strip(\"\\n\"))\n",
    "nx.set_node_attributes(G,record,\"communities\")   \n",
    "\n",
    "\n"
   ]
  },
  {
   "cell_type": "code",
   "execution_count": 118,
   "id": "31cd9480",
   "metadata": {
    "scrolled": true
   },
   "outputs": [],
   "source": [
    "#create adj matrix\n",
    "SP_adj_matrix = nx.adjacency_matrix(G)\n",
    "NP_adj_matrix = SP_adj_matrix.todense()\n"
   ]
  },
  {
   "cell_type": "code",
   "execution_count": 119,
   "id": "916d4886",
   "metadata": {
    "scrolled": true
   },
   "outputs": [],
   "source": [
    "#create corresponding list with community that node is affiliated with\n",
    "community_affiliation = []\n",
    "for i in range(len(NP_adj_matrix)):\n",
    "    community_affiliation.append(list(G.nodes(\"communities\"))[i][1])\n"
   ]
  },
  {
   "cell_type": "markdown",
   "id": "689028c0",
   "metadata": {},
   "source": [
    "FUNCTION BELOW IS MODIFIED BUT TAKEN FROM: https://github.com/CarloNicolini/pyconnectivity/blob/master/bct.py"
   ]
  },
  {
   "cell_type": "code",
   "execution_count": 99,
   "id": "1c448af4",
   "metadata": {},
   "outputs": [],
   "source": [
    "def participation_coef(W, ci):\n",
    "    '''\n",
    "    Participation coefficient is a measure of diversity of intermodular\n",
    "    connections of individual nodes.\n",
    "    Inputs:     W,      binary/weighted, directed/undirected connection matrix\n",
    "               Ci,         community affiliation vector\n",
    "    Output:     P,      participation coefficient\n",
    "    Note: The output for directed graphs is the \"out-neighbor\"\n",
    "         participation coefficient.\n",
    "    '''\n",
    "  \n",
    "\n",
    "    _, ci = np.unique(ci, return_inverse=True)\n",
    "    ci += 1\n",
    "   \n",
    "    n = len(W)  # number of vertices\n",
    "    Ko = np.sum(W, axis=1)  # (out) degree\n",
    "    \n",
    "    Gc = np.dot((W != 0), np.diag(ci))  # neighbor community affiliation\n",
    "    \n",
    "    Kc2 = np.zeros((n,1))  # community-specific neighbors\n",
    "   \n",
    "    for i in range(int(np.max(ci))):\n",
    "        Kc2 += np.sqrt(np.sum(W * (Gc == i), axis=1)) #add more sqrt if necessary (if values still negative)\n",
    "        checker,_ = np.where(Kc2<0) #check to see if any values of Kc overflow and become negative\n",
    "        if(len(checker)>0):\n",
    "            print(\"OVERFLOW. TRY AGAIN WITH MORE SQRT\")\n",
    "            break\n",
    "        if(i % 5 == 0 or i==(int(np.max(ci)))-1):\n",
    "            print(str(i) + \" out of \" + str(np.max(ci)-1) + \" communities complete\")\n",
    "        \n",
    "    non_normal = Kc2 / np.sqrt(Ko) \n",
    "    non_normal = np.nan_to_num(non_normal,nan=np.nanmax(non_normal)) #change any nan values to max value in vector\n",
    "    normalized = (non_normal - non_normal.min()) / (non_normal.max() - non_normal.min()) #normalized vector\n",
    "    P = np.ones((n,1)) - normalized\n",
    "    \n",
    "    #P=0 if for nodes with no (out) neighbors\n",
    "    P[np.where(np.logical_not(Ko))] = 0\n",
    "\n",
    "    return P"
   ]
  },
  {
   "cell_type": "code",
   "execution_count": 100,
   "id": "543b0f2b",
   "metadata": {
    "scrolled": false
   },
   "outputs": [
    {
     "name": "stdout",
     "output_type": "stream",
     "text": [
      "0 out of 389 communities complete\n",
      "5 out of 389 communities complete\n",
      "10 out of 389 communities complete\n",
      "15 out of 389 communities complete\n",
      "20 out of 389 communities complete\n",
      "25 out of 389 communities complete\n",
      "30 out of 389 communities complete\n",
      "35 out of 389 communities complete\n",
      "40 out of 389 communities complete\n",
      "45 out of 389 communities complete\n",
      "50 out of 389 communities complete\n",
      "55 out of 389 communities complete\n",
      "60 out of 389 communities complete\n",
      "65 out of 389 communities complete\n",
      "70 out of 389 communities complete\n",
      "75 out of 389 communities complete\n",
      "80 out of 389 communities complete\n",
      "85 out of 389 communities complete\n",
      "90 out of 389 communities complete\n",
      "95 out of 389 communities complete\n",
      "100 out of 389 communities complete\n",
      "105 out of 389 communities complete\n",
      "110 out of 389 communities complete\n",
      "115 out of 389 communities complete\n",
      "120 out of 389 communities complete\n",
      "125 out of 389 communities complete\n",
      "130 out of 389 communities complete\n",
      "135 out of 389 communities complete\n",
      "140 out of 389 communities complete\n",
      "145 out of 389 communities complete\n",
      "150 out of 389 communities complete\n",
      "155 out of 389 communities complete\n",
      "160 out of 389 communities complete\n",
      "165 out of 389 communities complete\n",
      "170 out of 389 communities complete\n",
      "175 out of 389 communities complete\n",
      "180 out of 389 communities complete\n",
      "185 out of 389 communities complete\n",
      "190 out of 389 communities complete\n",
      "195 out of 389 communities complete\n",
      "200 out of 389 communities complete\n",
      "205 out of 389 communities complete\n",
      "210 out of 389 communities complete\n",
      "215 out of 389 communities complete\n",
      "220 out of 389 communities complete\n",
      "225 out of 389 communities complete\n",
      "230 out of 389 communities complete\n",
      "235 out of 389 communities complete\n",
      "240 out of 389 communities complete\n",
      "245 out of 389 communities complete\n",
      "250 out of 389 communities complete\n",
      "255 out of 389 communities complete\n",
      "260 out of 389 communities complete\n",
      "265 out of 389 communities complete\n",
      "270 out of 389 communities complete\n",
      "275 out of 389 communities complete\n",
      "280 out of 389 communities complete\n",
      "285 out of 389 communities complete\n",
      "290 out of 389 communities complete\n",
      "295 out of 389 communities complete\n",
      "300 out of 389 communities complete\n",
      "305 out of 389 communities complete\n",
      "310 out of 389 communities complete\n",
      "315 out of 389 communities complete\n",
      "320 out of 389 communities complete\n",
      "325 out of 389 communities complete\n",
      "330 out of 389 communities complete\n",
      "335 out of 389 communities complete\n",
      "340 out of 389 communities complete\n",
      "345 out of 389 communities complete\n",
      "350 out of 389 communities complete\n",
      "355 out of 389 communities complete\n",
      "360 out of 389 communities complete\n",
      "365 out of 389 communities complete\n",
      "370 out of 389 communities complete\n",
      "375 out of 389 communities complete\n",
      "380 out of 389 communities complete\n",
      "385 out of 389 communities complete\n",
      "389 out of 389 communities complete\n"
     ]
    }
   ],
   "source": [
    "Pc = participation_coef(NP_adj_matrix,community_affiliation)"
   ]
  },
  {
   "cell_type": "code",
   "execution_count": 102,
   "id": "a8304885",
   "metadata": {},
   "outputs": [
    {
     "name": "stdout",
     "output_type": "stream",
     "text": [
      "[[0.52506463]\n",
      " [0.75835254]\n",
      " [0.65509551]\n",
      " ...\n",
      " [0.94576383]\n",
      " [0.        ]\n",
      " [0.95295424]]\n"
     ]
    }
   ],
   "source": [
    "print(Pc)"
   ]
  },
  {
   "cell_type": "code",
   "execution_count": 103,
   "id": "7098dcbb",
   "metadata": {},
   "outputs": [
    {
     "name": "stdout",
     "output_type": "stream",
     "text": [
      "0.7211734798588747\n"
     ]
    }
   ],
   "source": [
    "#find avg participation coefficient of the whole network\n",
    "avg_pc = np.mean(Pc)\n",
    "print(avg_pc)"
   ]
  },
  {
   "cell_type": "code",
   "execution_count": 104,
   "id": "7072f29c",
   "metadata": {},
   "outputs": [
    {
     "name": "stdout",
     "output_type": "stream",
     "text": [
      "[4.372073977079418, 250.00010333741096, 1.8670187186178997, 1.5525415449763178, 5.660999650528439, 4.486647008060916, 0.9999999999999997, 16.24125565104466, 4.420442683335167, 5.725433509262987, 1.416257989868915, 4.205320004270745, 1.824780622329711, 0.9230277153860683, 1.631838312921623, 2.91077355799154, 2.7167460680411883, 2.8998963166297926, 3.915308509444049, 1.8867087755057483, 3.582635888376053, 2.1936595669595866, 1.9999999999999993, 1.4070372198517003, 3.8725405632643195, 4.259855131317355, 2.5099597066955295, 4.213517639166373, 1.8635924665331154, 17.729463840018077, 1.3333533618945212, 0.6774948648869388, 1.0, 5.9469624837439, 1.7207690282655954, 0.9666320794692136, 0.894196511574139, 11.991503060476054, 1.6544341583532223, 2.8588627256926595, 4.517150777915132, 1.8118175937671404, 0.9999999999999997, 0.9999999999999997, 5.866528474337803, 2.3246946749615205, 0.9999999999999997, 0.7227462778555924, 3.945436970388898, 5.0781286737926905, 1.9999999999999993, 0.9999999999999997, 16.693812934880686, 1.7117139103969339, 1.9999999999999993, 6.816546754789467, 1.9999999999999996, 0.9999999999999997, 0.8341296886665988, 1.7390692462555704, 3.9999999999999987, 0.9195863735176417, 1.9999999999999996, 1.8790280196848899, 1.9615138345161003, 3.9999999999999987, 6.652691722626566, 1.9999999999999993, 3.88488550287032, 0.9999999999999997, 1.9999999999999993, 0.8538918450837638, 2.7875873037413696, 1.863592512891914, 1.8665284743378039, 1.6275631264402897, 1.959200287775183, 0.9454369703888994, 1.966632079469213, 0.9040862795630987, 1.8118175937671404, 2.7177260774289325, 0.9148460840696653, 1.9332641850097045, 43.80535543228278, 0.9999999999999997, 0.9999999999999997, 2.2391978457273765, 5.56004821469778, 2.9195863213667663, 2.7168388627899427, 1.9999999999999993, 2.898391212286452, 0.8245603155598238, 2.933264185009704, 5.017907030558558, 0.9999999999999997, 0.9181554729648168, 2.6182611155586066, 5.966632079469212, 5.719823856831969, 3.9999999999999987, 3.8140347774017425, 1.7017435112443715, 1.7643757015890302, 2.4183331573738176, 3.4327380945546606, 3.858862725692659, 1.6093022583524914, 187.90452613809953, 0.9064730825626441, 3.5224389387072508, 5.2823390515283455, 0.9999999999999997, 1.853837124660751, 2.5667789834922647, 3.552203250020548, 1.7725064531625712, 2.912784594292895, 5.649050896142499, 0.8194278838379729, 1.754602297510682, 4.765185419255421, 1.517307890345465, 0.9666320794692136, 4.29574049625669, 0.8138410067485176, 1.8062956187310482, 1.8867087755057483, 1.7493633330908973, 50.63794277480184, 1.9529542418975527, 6.919136274546814, 0.9999999999999997, 2.8588627256926595, 1.9059084837951064, 2.50615736592626, 3.5922912821949904, 4.436655559761616, 0.9999999999999997, 4.910109135874101, 0.9999999999999997, 1.819033060984305, 0.9666320794692136, 3.1309653840544858, 0.9999999999999997, 1.9666320794692131, 0.9999999999999997, 2.18233875403177, 3.6987865672079243, 1.5333980183257687, 0.7858652090012395, 0.9999999999999997, 1.530742528488528, 1.8426225927700237, 0.9999999999999997, 2.544424574036576, 0.8294232398136483, 2.999999999999999, 1.9999999999999993, 2.375181576691182, 8.320008389992001, 1.7062397068393553, 1.8524004595565198, 1.656688062599399, 3.5897209223704345, 1.567500050141665, 1.9529542418975527, 2.437830890394099, 2.6633110843705716, 3.8914777145886714, 2.556448587856355, 3.9654192281243397, 1.2900803940483572, 2.792615460490173, 2.676199431681111, 2.745081361236708, 0.9999999999999997, 2.8808336005183772, 1.9059085881135016, 1.555219132053736, 0.9999999999999997, 3.8026408667816285, 1.6526438963859633, 2.8108365377091173, 2.4003152162337136, 1.8118172806120199, 1.9059084837951064, 1.6313007276760918, 0.9999999999999997, 0.9763545501025435, 2.9332641589384267, 0.8998963166297931, 1.719869642351229, 0.9666320794692136, 0.9999999999999997, 0.9999999999999997, 0.9332641850097045, 1.496927281786727, 2.8908739871316658, 2.6011102015627214, 2.9454369703888985, 2.8168984093184246, 0.9999999999999997, 1.9999999999999993, 0.9999999999999997, 3.5288905479346986, 1.9059084837951064, 1.9666320794692131, 2.703672730734818, 0.8442979075807432, 1.8915276693503706, 0.9999999999999997, 0.9999999999999997, 0.9999999999999997, 1.9529542418975527, 1.7572543205391176, 3.466251334580226, 1.945436970388899, 1.6152562428785873, 0.9999999999999997, 0.7940456563216276, 0.862790873102002, 0.9999999999999997, 1.853340959310013, 1.761189672126855, 1.9666320794692131, 0.9592002877751834, 1.9097883516655079, 1.0, 1.8911388790080577, 2.839172747051929, 1.7828411971481195, 0.9999999999999997, 0.9666320794692136, 3.724614408885398, 3.349732712542039, 4.811816967590213, 1.9666320794692131, 0.9999999999999993, 3.5308572119653157, 0.9999999999999993, 0.9999999999999997, 0.9999999999999997, 1.5377841726460564, 1.0, 0.9999999999999997, 1.8489355038651463, 1.9529542418975527, 3.778153484971544, 1.68615484532781, 1.9763545501025432, 1.4416498842353667, 1.8725406675827152, 1.9999999999999996, 2.5281356788791225, 1.4710595027879285, 252.41667765653588, 1.9666320794692131, 1.8979756311343947, 1.9529542418975532, 1.5383831402547936, 1.9408338003718395, 0.85784819478776, 0.8361052579614777, 1.7687002449793785, 2.798764722988402, 1.596028655610672, 1.0, 1.9576785921157085, 5.980473381090729, 4.970779051261206, 1.7709643323021451, 1.0, 1.5751758898833046, 1.561579957642507, 0.9999999999999997, 1.8020675385990501, 2.378036506607461, 0.9999999999999997, 0.9999999999999997, 0.9666320794692136, 0.9999999999999997, 1.9425159304109019, 2.7562194759899277, 1.9999999999999993, 67.8087450369263, 4.0583057225408465, 0.9999999999999997, 0.9999999999999997, 0.9666320794692136, 1.8127985000009255, 0.9999999999999997, 0.9999999999999997, 1.9059084837951064, 0.9999999999999993, 1.7770504730684742, 0.6192767330554986, 0.9529542418975535, 0.8776654623548256, 0.9666320794692136, 2.86750906721639, 1.0, 0.9999999999999997, 1.691594227853207, 3.999999999999999, 1.0, 1.7172358332821518, 1.9999999999999993, 1.0, 1.9999999999999993, 0.9999999999999997, 0.8311323095944627, 0.9615138345161004, 0.9355548574311849, 0.9999999999999997, 1.5711900915018977, 0.9999999999999997, 0.9999999999999997, 1.0, 1.9999999999999993, 0.9999999999999997, 2.4480776613914483, 0.9999999999999997, 1.6745401327899683, 3.7177257643405044, 1.9059085881135016, 2.5700100521637004, 1.9529542418975527, 0.9999999999999997, 1.912069049858113, 1.9059084837951068, 1.9999999999999993, 0.9999999999999993, 0.9999999999999993, 0.9999999999999997, 0.9999999999999997, 1.8453562419264566, 0.9999999999999997, 1.8006935935700252, 1.0, 2.9059084837951064, 0.9999999999999997, 1.9529542418975527, 1.9666320794692131, 0.9529542418975535, 0.9999999999999997, 1.5765911017288223, 1.4137334718122527, 1.8491127744425955, 1.0, 0.9999999999999997, 2.5174765800252668, 0.9999999999999997, 0.9999999999999997, 1.815056676232415, 1.0, 2.6820195835760217, 0.9127845942928958, 1.9529542418975527, 0.9999999999999997, 1.0, 0.9666320794692136, 1.357688353003043, 2.6256884262503064, 0.9999999999999997, 0.9425159304109022, 0.9999999999999997, 0.9999999999999997, 1.0, 3.779430161796545, 0.9999999999999997, 1.9601749091775686, 0.9666320794692136, 2.5383745530373782, 1.6258739101949737, 0.9999999999999997, 1.0, 2.6230248631940434, 0.9999999999999997, 0.842726719802962, 0.9999999999999997, 3.3197386751306177, 0.9999999999999997, 0.9999999999999997, 0.9332641850097045, 2.8554055652251833, 0.9999999999999997, 0.9457638346751853, 3.758792809012807]\n",
      "[9, 326, 3, 2, 8, 9, 2, 17, 5, 7, 2, 5, 3, 2, 3, 4, 4, 4, 6, 2, 5, 3, 3, 3, 4, 6, 4, 5, 4, 19, 3, 2, 2, 7, 5, 2, 2, 13, 2, 3, 5, 3, 2, 2, 7, 4, 2, 2, 5, 6, 3, 2, 21, 2, 3, 8, 3, 2, 3, 2, 5, 2, 3, 3, 3, 5, 8, 3, 5, 2, 3, 2, 4, 3, 3, 2, 3, 2, 3, 2, 3, 4, 3, 3, 45, 2, 2, 3, 7, 3, 3, 3, 4, 9, 4, 7, 2, 2, 3, 7, 7, 5, 5, 3, 2, 3, 4, 4, 2, 246, 2, 5, 6, 2, 3, 4, 4, 3, 4, 6, 2, 2, 6, 2, 2, 5, 2, 2, 2, 2, 70, 2, 8, 2, 3, 2, 7, 6, 6, 2, 6, 2, 3, 2, 4, 2, 2, 2, 5, 5, 3, 2, 2, 2, 2, 2, 4, 2, 4, 3, 4, 11, 3, 2, 2, 4, 2, 3, 3, 3, 6, 3, 5, 2, 4, 3, 3, 2, 5, 3, 2, 2, 5, 2, 4, 3, 2, 2, 2, 2, 2, 4, 2, 2, 2, 2, 2, 2, 2, 4, 4, 4, 4, 2, 3, 2, 4, 2, 3, 3, 2, 4, 2, 2, 2, 2, 2, 4, 3, 3, 2, 2, 2, 2, 2, 2, 3, 2, 2, 3, 2, 3, 3, 2, 2, 4, 4, 6, 3, 3, 4, 2, 2, 2, 2, 2, 2, 3, 2, 5, 2, 3, 2, 2, 3, 3, 2, 344, 3, 3, 2, 3, 3, 2, 2, 2, 4, 3, 2, 3, 9, 6, 5, 3, 3, 2, 2, 2, 3, 2, 2, 2, 2, 3, 3, 3, 82, 6, 2, 2, 2, 2, 2, 2, 2, 2, 2, 2, 2, 2, 2, 4, 3, 2, 3, 5, 3, 2, 3, 3, 3, 2, 3, 4, 3, 2, 2, 2, 2, 2, 3, 2, 3, 2, 2, 4, 2, 5, 2, 2, 3, 2, 3, 2, 3, 2, 2, 2, 2, 2, 2, 3, 2, 2, 3, 2, 2, 2, 3, 2, 2, 2, 3, 2, 2, 2, 2, 3, 2, 3, 2, 2, 2, 3, 3, 2, 2, 2, 2, 2, 4, 2, 3, 2, 3, 4, 2, 2, 5, 2, 3, 2, 4, 2, 2, 2, 3, 2, 2, 4]\n",
      "0.9833160397346066\n",
      "0.09161781283998043\n",
      "(array([146], dtype=int64),)\n",
      "(array([93], dtype=int64),)\n"
     ]
    }
   ],
   "source": [
    "#find max and min average participation coefficient\n",
    "#list size is amount of communities\n",
    "community_pc = [0] * int(np.max(community_affiliation)+1)\n",
    "#print(Pc)\n",
    "#print(Pc.item(0))\n",
    "#print(len(community_pc))\n",
    "#print(community_affiliation)\n",
    "#number of nodes in each community to calc average\n",
    "num_of_nodes_in_comm = [0] * int(np.max(community_affiliation)+1) #size of 423\n",
    "#print(len(NP_adj_matrix))\n",
    "#For each community find the average PC\n",
    "for i in range(int(np.max(community_affiliation))+1): \n",
    "    #for each node get their PC \n",
    "    for j in range(len(NP_adj_matrix)):\n",
    "        #if node is in community i \n",
    "        if(community_affiliation[j] == i):\n",
    "            #then add PC to community_pc\n",
    "            community_pc[i] += Pc.item(j)\n",
    "            #add 1 to index \n",
    "            num_of_nodes_in_comm[community_affiliation[j]] += 1      \n",
    "print(community_pc)\n",
    "print(num_of_nodes_in_comm)            \n",
    "avg_community_pc = [0] * int(np.max(community_affiliation)+1) #423\n",
    "\n",
    "#average out each element of avg_community_pc\n",
    "for i in range(len(avg_community_pc)):\n",
    "    #PC[i] / # of nodes in community igy\n",
    "    avg_community_pc[i] = community_pc[i]/num_of_nodes_in_comm[i]\n",
    "    \n",
    "\n",
    "#print(avg_community_pc)\n",
    "print(np.max(avg_community_pc))\n",
    "print(np.min(avg_community_pc))\n",
    "print(np.where(avg_community_pc ==np.max(avg_community_pc) ))\n",
    "print(np.where(avg_community_pc ==np.min(avg_community_pc) ))"
   ]
  },
  {
   "cell_type": "markdown",
   "id": "a8df755f",
   "metadata": {},
   "source": [
    "Write PC to csv file"
   ]
  },
  {
   "cell_type": "code",
   "execution_count": 120,
   "id": "74c7cc8c",
   "metadata": {},
   "outputs": [],
   "source": [
    "NODES_FILE1 = \"nodes_communities_PC1.csv\"\n",
    "nodesFile1 = open(NODES_FILE1, 'r')\n",
    "record1 = {}\n",
    "# skip headers\n",
    "#nodesFile.readline()\n",
    "\n",
    "# store nodes in record\n",
    "for line in nodesFile1:\n",
    "    toRecord1 = line.split(\", \")\n",
    "    user1 = toRecord1[0].strip()\n",
    "    repo1 = toRecord1[1].strip()\n",
    "    follower_community1 = toRecord1[2].strip()\n",
    "    fork_community1 = toRecord1[3].strip()\n",
    "    follower_pc1 = toRecord1[4].strip()\n",
    "    fork_pc1 = -1\n",
    "    \n",
    "    record1[toRecord1[0]] = [repo1,follower_community1,fork_community1,follower_pc1,fork_pc1]\n",
    "\n",
    "nodesFile1.close()"
   ]
  },
  {
   "cell_type": "code",
   "execution_count": 115,
   "id": "c0c8c1e6",
   "metadata": {},
   "outputs": [
    {
     "name": "stdout",
     "output_type": "stream",
     "text": [
      "{'taylorotwell': 0.525064629930962, 'nunomaduro': 0.7583525415748049, 'fideloper': 0.6550955087297858, 'franzliedke': 0.8528843252177011, 'WebReflection': 0.9059085881135015, 'loic-sharma': 0.9999999999999997, 'mperham': 0.8377092882664791, 'jasonlewis': 0.9332641850097045, 'JosephSilber': 1.0, 'lucadegasperi': 0.0, 'cviebrock': 0.8207871543097718, 'machuga': 0.0, 'kirkbushell': 0.0, 'fzaninotto': 0.0, 'bryantebeek': 0.8998963166297931, 'barryvdh': 0.6719960439028374, 'rlerdorf': 0.791854973859073, 'crynobone': 0.4785845400339601, 'bobthecow': 0.8281133768581241, 'svenluijten': 0.0, 'calebporzio': 0.0, 'wesbos': 0.9999999999999997, 'daylerees': 0.0, 'tj': 0.7904738349429064, 'GrahamCampbell': 0.0, 'yajra': 0.0, 'themsaid': 0.6086257157449537, 'michaeldyrynda': 0.9454369703888994, 'JeffreyWay': 0.7577454519344969, 'pedroborges': 0.46330374797136176, 'olivierlacan': 0.8008328551306507, 'mnapoli': 0.65341383637365, 'willdurand': 0.0, 'Anahkiasen': 0.0, 'antonioribeiro': 0.6723344232317008, 'hannesvdvreken': 0.0, 'Seldaek': 0.8946159122410396, 'sebastianbergmann': 0.0, 'rdohms': 0.8526501553716184, 'asm89': 0.8910614948467489, 'tillkruss': 0.7066058461328222, 'sparksp': 0.0, 'bencorlett': 0.9230277153860683, 'ericlbarnes': 0.9181554729648168, 'ianlandsman': 0.0, 'JesseObrien': 0.9701316775204865, 'c9s': 0.0, 'adamgoose': 0.9069508512588673, 'philsturgeon': 0.0, 'browner12': 0.5383831402547938, 'dwightwatson': 0.0, 'codler': 0.9337545336081952, 'chirag04': 0.8294232398136483, 'vespakoen': 0.6065571791360538, 'appleboy': 0.7797193747480315, 'Raynos': 0.8468736141559905, 'briankiewel': 0.6521337406543156, 'mcintyre94': 0.9592002877751834, 'jessarcher': 0.549416472971923, 'jasonmccreary': 0.6988061235987645, 'DivineOmega': 0.9529542418975532, 'm1guelpf': 0.9529542418975532, 'vtalbot': 0.9999999999999997, 'syntaqx': 0.9999999999999997, 'alex': 0.0, 'andrey-helldar': 0.7422290264042118, 'anlutro': 0.0, 'irazasyed': 0.0, 'AustinW': 0.8776654623548256, 'OskarStark': 0.7032795922958984, 'overtrue': 0.0, 'jwalton512': 0.7977641426213166, 'adamwathan': 1.0, 'arnaud-lb': 0.8837117843654598, 'JuanDMeGon': 0.6192767330554986, 'JacobBennett': 0.0, 'nikolaynizruhin': 0.9529542418975532, 'vlakoff': 0.713682839956806, 'benedmunds': 0.7945160411909432, 'JoostK': 0.9337545336081952, 'beberlei': 0.9040862795630987, 'vus520': 0.972718479401449, 'astaxie': 0.9191362745468151, 'mx-moth': 0.0, 'brunogaspar': 0.0, 'arcanedev-maroc': 0.7218305920897756, 'staudenmeir': 0.0, 'abishekrsrikaanth': 0.6774948648869388, 'reinink': 0.0, 'astorm': 0.6573827088253439, 'ahinkle': 1.0, 'timacdonald': 0.0, 'BrandonSurowiec': 0.6550955087297858, 'stubailo': 0.8523879143752304, 'henrikbjorn': 0.0, 'etelford': 0.9059085881135015, 'freekmurze': 0.644380427485141, 'Elhebert': 0.9666320794692136, 'jpmurray': 0.0, 'driesvints': 0.0, 'msurguy': 0.0, 'vinkla': 0.0, 'drewm': 0.0, 'scrubmx': 0.972718479401449, 'KennedyTedesco': 0.46330374797136176, 'racklin': 0.6648081934474883, 'TooTallNate': 0.8393056380468463, 'szepeviktor': 0.6230935736752945, 'Crell': 0.0, 'bmitch': 0.0, 'bamarni': 0.9529542418975532, 'lstrojny': 0.0, 'theofidry': 0.8152489973258105, 'aramk': 0.6236368598312693, 'florianv': 0.0, 'canvural': 0.0, 'sebdesign': 0.0, 'sanmai': 0.8507564838566481, 'danharrin': 0.0, 'felixfbecker': 0.7211699733435182, 'schmittjoh': 0.6573827088253439, 'sprain': 0.0, 'ossinkine': 0.0, 'Nyholm': 0.7572999169003931, 'PHLAK': 0.0, 'philippbosch': 0.0, 'arubacao': 0.0, 'TomasVotruba': 0.5980908346298017, 'lamby': 0.0, 'kylekatarnls': 0.6376477264710642, 'stayallive': 0.0, 'dr-dimitru': 0.9529542418975532, 'Urigo': 0.7455729629894358, 'drakakisgeo': 0.894196511574139, 'captbaritone': 0.8100106792630939, 'rk': 0.7455729629894358, 'aimeos': 0.9529542418975532, 'fabiospampinato': 0.9529542418975532, 'alnutile': 0.5654178165627024, 'dammy001': 0.7305180073378723, 'PatrickJS': 0.7646020223259921, 'yyx990803': 0.9191362745468151, 'justquick': 0.9999999999999997, 'brosner': 0.0, 'jacobian': 0.0, 'raphaelm': 0.0, 'jezdez': 0.0, 's0undt3ch': 0.8075696363165349, 'mitsuhiko': 0.0, 'tmc': 0.7523527853066979, 'Diggsey': 0.8489355038651466, 'carllerche': 0.0, 'sgrif': 0.8110591316915632, 'dmishe': 0.9999999999999997, 'fcurella': 0.0, 'lgiordani': 0.9059085881135015, 'audreyfeldroy': 0.9999999999999997, 'garbados': 0.8500284803980475, 'mikeal': 0.847739351672472, 'jonathanKingston': 0.9107735579915405, 'dcramer': 0.0, 'maxcountryman': 0.9763545501025435, 'isaacs': 0.8745048612881074, 'toastdriven': 0.0, 'kylemcc': 0.9529542418975532, 'wilsaj': 0.9999999999999997, 'martinblech': 0.0, 'kkirsche': 0.8020681655101649, 'kentcdodds': 0.7146040427633435, 'alekzvik': 0.8327311891387403, 'areski': 0.0, 'jarus': 0.8118175937671408, 'EnTeQuAk': 0.9207167503201288, 'stephrdev': 0.0, 'pydanny': 0.0, 'miguelgrinberg': 0.0, 'yuku': 0.0, 'birkenfeld': 0.9999999999999997, 'SimonSapin': 0.0, 'msabramo': 0.8341296886665988, 'adrienbrault': 0.8151197922208279, 'sstephenson': 0.0, 'erikrose': 1.0, 'justinabrahms': 0.0, 'aaugustin': 0.0, 'jamesls': 0.8331606581420687, 'lepture': 0.0, 'gsamokovarov': 0.0, 'grampajoe': 0.9148460840696653, 'mvantellingen': 0.0, 'DasIch': 0.0, 'd0ugal': 0.0, 'kislyuk': 0.9999999999999997, 'jdunck': 0.0, 'michaelklishin': 0.0, 'sourya': 1.0, 'jonashaag': 0.0, 'tony': 0.8092955881721909, 'tbicr': 0.0, 'jschneier': 0.0, 'dotansimha': 0.7668564082401561, 'Yourun-proger': 0.9999999999999997, 'mrluanma': 0.9999999999999997, 'wimglenn': 0.8635925128919147, 'mjpieters': 0.9999999999999993, 'adamchainz': 0.0, 'drewja': 0.8118175937671408, 'accraze': 0.9999999999999997, 'guyellis': 0.0, 'tirkarthi': 0.9999999999999997, 'asottile': 0.0, 'aaronchall': 0.9999999999999997, 'eradman': 0.0, 'alanhamlett': 0.8538918450837638, 'jmcarp': 0.0, 'sobolevn': 0.0, 'rochacbruno': 0.96135041975689, 'greyli': 0.0, 'adamzap': 0.0, 'Tafkas': 0.8147631356080816, 'SamSaffron': 0.8450852009521104, 'jimrollenhagen': 0.7875873037413703, 'SmileyChris': 0.0, 'steveklabnik': 0.839411013231746, 'decaz': 0.9999999999999997, 'inglesp': 0.0, 'mattd': 0.9999999999999997, 'citruspi': 0.9999999999999997, 'orf': 0.0, 'obeattie': 0.7647722533382876, 'onovy': 0.9454369703888994, 'mattrobenolt': 0.0, 'lord63': 0.0, 'pawl': 0.9999999999999993, 'carltongibson': 0.0, 'evansd': 0.0, 'r0fls': 0.9040862795630987, 'weaverryan': 0.7662138575128156, 'czpython': 0.0, 'freakboy3742': 0.0, 'RonnyPfannschmidt': 0.9999999999999997, 'untitaker': 0.0, 'timofurrer': 0.9999999999999993, 'BrunnerLivio': 0.0, 'clarete': 0.0, 'kennethreitz': 0.0, 'ryanwang520': 0.9054182395150109, 'nickjj': 0.0, 'NARKOZ': 0.9999999999999997, 'zevaverbach': 0.8848855028703215, 'mattc41190': 0.9999999999999997, 'kataras': 0.0, 'Aayush-Kasurde': 0.9999999999999997, 'Abdur-rahmaanJ': 0.7997928680509203, 'ageitgey': 0.9615138345161004, 'michaelficarra': 0.8396635392618345, 'atwalsh': 0.9999999999999997, 'singingwolfboy': 0.0, 'akshar-raaj': 0.9999999999999997, 'HonzaKral': 0.0, 'AlanSwenson': 0.7227462778555924, 'WhyNotHugo': 0.0, 'alysivji': 0.8588630387144667, 'augiwan': 0.7724374799914435, 'gadicc': 0.7066316715207664, 'alanning': 0.7705435960434591, 'bastianh': 0.9454369703888994, 'bdarnell': 0.9529542418975532, 'kisielk': 0.9999999999999997, 'billfienberg': 0.8105929053181442, 'briehanlombaard': 0.9999999999999997, 'chivalry': 0.8635925128919147, 'gruentee': 0.8109303789948361, 'Ocramius': 0.7572057685774843, 'TimothyYe': 0.9529542418975532, 'MostAwesomeDude': 0.9999999999999997, 'callahad': 0.9999999999999997, 'ubernostrum': 0.0, 'ezyang': 0.9999999999999997, 'tswicegood': 0.0, 'fantix': 0.8588630387144667, 'gpjt': 0.9999999999999997, 'yoloseem': 0.9332641850097045, 'leekchan': 0.0, 'ifiokjr': 0.8197688934618614, 'ianstormtaylor': 0.7860452499576949, 'vioan': 0.06981161589560925, 'dandv': 0.5775526487896128, 'Slava': 0.6526443663438521, 'iximiuz': 0.8118175937671408, 'jstasiak': 0.9999999999999997, 'jerr0328': 0.9999999999999997, 'kblomqvist': 0.0, 'limeburst': 0.9999999999999997, 'jirikuncar': 0.8665284743378042, 'aredridel': 0.8156762877965034, 'jperras': 0.8118175937671408, 'jonafato': 0.9181554729648168, 'FlipperPA': 0.0, 'jugmac00': 0.9999999999999997, 'kx-chen': 0.8867089842091602, 'andrewda': 0.9454369703888994, 'unknwon': 0.0, 'quamilek': 0.9999999999999997, 'kylestev': 0.81525981669854, 'juliangruber': 0.6529198845273809, 'Lee-W': 0.9191362745468151, 'ForbesLindesay': 0.8374960932305971, 'madrobby': 0.9425159304109022, 'matthewmueller': 0.7312040061061219, 'defunctzombie': 0.8609224186033728, 'yields': 0.8583967703949751, 'mmalecki': 0.853858453566653, 'rlidwka': 0.8569479673368953, 'thlorenz': 0.8819949524265019, 'ciaranj': 0.9061538015529615, 'tschaub': 0.7928635690251362, 'slaskis': 0.8489775777219304, 'hughsk': 0.8214356069536586, 'blakeembrey': 0.7940648295631012, 'panva': 0.0, 'notrab': 0.8862185312256529, 'rauchg': 0.9337545336081948, 'bdotdub': 0.9999999999999997, 'jed': 0.0, 'wesleytodd': 0.882304052073353, 'dougwilson': 0.0, 'sorribas': 0.0, 'nvdnkpr': 0.7276087414471326, 'kapouer': 0.9046399121195424, 'gnosek': 0.0, 'aheckmann': 0.0, 'dresende': 0.0, 'chainhelen': 0.9999999999999997, 'nswbmw': 0.0, 'davglass': 0.9236815830991714, 'Fishrock123': 0.8428540068092147, 'dshaw': 0.9236815830991714, 'oliversalzburg': 0.790969953252831, 'umpirsky': 0.7767332669879073, 'mgol': 0.9107735579915405, 'benatkin': 0.7995045366230953, 'rstacruz': 0.7266611174645907, 'shama': 0.853207401639013, 'fabien': 0.8168258646774024, 'weaver': 0.847739351672472, 'whtsky': 0.0, 'redsquirrel': 0.8114214596914769, 'guilleiguaran': 0.8222539462011513, 'ericf': 0.8053765277121556, 'joliss': 0.7972799401672775, 'caridy': 0.8156766894943848, 'benjamn': 0.8721399780356854, 'EvanHahn': 0.8988735027026556, 'erikdubbelboer': 0.0, 'shime': 0.806930218124781, 'janko': 0.8538846568442491, 'radar': 0.9337545336081952, 'metaskills': 0.8768240329608655, 'HusseinMoHu': 0.9529542418975532, 'LinusU': 0.7955428316555461, 'kriswallsmith': 0.7792551993500552, 'zensh': 0.8496405209953563, 'kavu': 0.8928361473864008, 'kirs': 0.9027169067413426, 'saintedlama': 0.6482112546932357, 'nickmccurdy': 0.7257833615644739, 'hacksparrow': 0.8923109210412565, 'iBotPeaches': 0.9999999999999997, 'ChALkeR': 0.8675108674131896, 'paulmillr': 0.0, 'guybrush': 0.6687643182363235, 'adamsanderson': 0.8627908731020022, 'technoweenie': 0.9529542418975532, 'adiospace': 0.9191362745468151, 'estrada9166': 0.8598442581033722, 'geek': 0.9180414446750911, 'piscis': 0.8799963108731981, 'jamesgeorge007': 0.9091480881189135, 'biozshock': 0.8770112190532652, 'snc': 0.0, 'AlexKVal': 0.9191362745468151, 'wycats': 0.9191362745468151, 'semaperepelitsa': 0.8674736008313715, 'killmenot': 0.8350584767475611, 'brianloveswords': 0.9063445411641751, 'gugu': 0.9999999999999997, 'andyfleming': 0.7865596718222643, 'yoshuawuyts': 0.7005886372946883, 'morenoh149': 0.0, 'Swatinem': 0.7931543054310737, 'DAB0mB': 0.8262730425398124, 'jamierumbelow': 0.8998963166297931, 'simensen': 0.0, 'Cauldrath': 0.8776654623548252, 'lxe': 0.8171011538933798, 'bnjmnt4n': 0.9191362745468151, 'brendanashworth': 0.9107735579915405, 'toolness': 0.0, 'caike': 0.7657538910684947, 'kimjoar': 0.8514926678276775, 'cheapsteak': 0.9064730825626441, 'Stranger6667': 0.0, 'cirosantilli': 0.8912158280761137, 'jieter': 0.0, 'danez': 0.9191362745468151, 'davidwood': 0.8926969970328861, 'joemccann': 0.8847051153558403, 'DmitryBochkarev': 0.8393060741879637, 'rubys': 0.9260647871240345, 'pat': 0.8811153406494243, 'netcode': 0.9999999999999997, 'amaelftah': 0.0, 'strwind': 0.9999999999999997, 'ghousemohamed': 0.9285316225535942, 'mikel': 0.9068895985322258, 'fxn': 0.0, 'gireeshpunathil': 0.9059085881135015, 'popomore': 0.8724756463433397, 'yiminghe': 0.0, 'jherdman': 0.8961585325450423, 'buschtoens': 0.8694727603508254, 'Jianru-Lin': 0.8618079524406219, 'freewil': 0.8468537486153112, 'masylum': 0.8532498622841345, 'jonchurch': 0.7967876559331716, 'RichardLitt': 0.7948702377785019, 'JonDum': 0.8190330609843051, 'dciccale': 0.0, 'jzacsh': 0.8862185312256529, 'thanpolas': 0.899896316629792, 'juanarbol': 0.8914488302093595, 'ericclemmons': 0.6693569454634005, 'ralphtheninja': 0.386201086163629, 'malixsys': 0.8523268473405445, 'serby': 0.8325184777833046, 'mhayashi': 0.9337545336081952, 'mcolyer': 0.8867089842091602, 'nacimgoura': 0.9529542418975532, 'karmi': 0.9529542418975535, 'JuanitoFatas': 0.8424680879830432, 'pavelbrylov': 0.8598442581033722, 'langpavel': 0.8486273714726223, 'peters': 0.8720908295994894, 'piperchester': 0.8835188967880175, 'jasondavies': 0.0, 'jiayihu': 0.8139018880121334, 'raymondfeng': 0.847739351672472, 'eivindfjeldstad': 0.0, 'ritch': 0.847739351672472, 'RubenVerborgh': 0.8834769946547925, 'seanlinsley': 0.8961585325450423, 'mislav': 0.9093195797448177, 'gazay': 0.8597652338529942, 'palkan': 0.8857685105685934, 'styfle': 0.8377064821699921, 'ruimarinho': 0.0, 'thomseddon': 0.8867089842091602, 'bronze1man': 0.8423563574693083, 'jpalardy': 0.0, 'deiga': 0.8867089842091602, 'vesln': 0.8776654623548252, 'VishvajitP': 0.9763545501025435, 'mitar': 0.0, 'ysmood': 0.8583496723039379, 'ZLester': 0.8819949524265019, 'colynb': 0.9059085881135015, 'ctide': 0.8453573525863334, 'chancancode': 0.8857960798811639, 'JamesNK': 0.9191362745468151, 'fern4lvarez': 0.7415331041919858, 'jaimeiniesta': 0.8525991281165367, 'joshlangner': 0.9999999999999997, 'thevoidf': 0.9191362745468151, 'yosssi': 0.8331606581420687, 'wayou': 0.0, 'meteormatt': 0.9999999999999997, 'rafaelfranca': 0.8734342145975063, 'jhawthorn': 0.8335289206078746, 'wvanbergen': 0.0, 'byroot': 0.8734207051922986, 'brianmario': 0.0, 'flavorjones': 0.875158577825036, 'rsim': 0.9337545336081952, 'lucasmazza': 0.0, 'headius': 0.8680001467102172, 'spastorino': 0.9068895985322254, 'josevalim': 0.0, 'tenderlove': 0.8809700592714685, 'eileencodes': 0.8534385799971725, 'FooBarWidget': 0.8531364744157407, 'btoews': 0.0, 'larskanis': 0.883342582973798, 'zenspider': 0.0, 'lifo': 0.0, 'schneems': 0.8187434443750411, 'kamipo': 0.9275343033129093, 'amatsuda': 0.9337545336081952, 'alpaca-tc': 0.8361052579614777, 'jeremy': 0.9028411763235819, 'javan': 0.9225188808583087, 'cldwalker': 0.8670189273213113, 'smartinez87': 0.8067865417724831, 'NZKoz': 0.7782799410074341, 'senny': 0.8794168564359431, 'arthurnn': 0.5712530774836824, 'carlosantoniodasilva': 0.8011827956569243, 'travisjeffery': 0.7261701308538211, 'kaspth': 0.8896211117209557, 'seanpdoyle': 0.847739351672472, 'dylanahsmith': 0.8634000631382346, 'deivid-rodriguez': 0.870916856346426, 'thiagopradi': 0.8565049026160348, 'sferik': 0.906740039029636, 'vijaydev': 0.9337545336081952, 'zzak': 0.8919070471676148, 'y-yagi': 0.8912035689545205, 'apotonick': 0.0, 'oscardelben': 0.8723178397191879, 'clemens': 0.9127845942928958, 'matthewd': 0.804419100203883, 'francois2metz': 0.875780271923178, 'goshacmd': 0.8952685072450981, 'hone': 0.847036765983876, 'pixeltrix': 0.920072938816427, 'jonleighton': 0.0, 'norman': 0.0, 'lawrencepit': 0.9337545336081952, 'jonathanhefner': 0.8458275195073839, 'grosser': 0.8855004209210885, 'ryanb': 0.7638854573089353, 'nashby': 0.8778680202517231, 'goncalossilva': 0.8491132967014969, 'sj26': 0.8333654580317753, 'vipulnsward': 0.8353490897513535, 'blowmage': 0.840520573769965, 'mechanicles': 0.8776654623548256, 'miloops': 0.9285316225535942, 'drogus': 0.8805328372367376, 'imtayadeway': 0.0, 'prathamesh-sonpatki': 0.7534859136694909, 'alindeman': 0.858074025325431, 'anildigital': 0.0, 'shanselman': 0.8695089790178134, 'tjschuck': 0.7526831947326109, 'eliotsykes': 0.8109921774867529, 'dchelimsky': 0.8793305918074297, 'dmathieu': 0.0, 'arunagw': 0.8489152267807736, 'sikachu': 0.8861405293196076, 'indirect': 0.8173350319532516, 'dgeb': 0.9337545336081952, 'eugeneius': 0.8540771739628701, 'seejohnrun': 0.8456642281153707, 'frodsan': 0.9013678322995834, 'jamis': 0.841220288436619, 'bogdanvlviv': 0.9337545336081952, 'yahonda': 0.8814464148346542, 'koic': 0.8572886181331631, 'mtsmfm': 0.7757456134593098, 'gmcgibbon': 0.9337545336081952, 'claudiob': 0.8922515633173783, 'simi': 0.8950683145799047, 'yui-knk': 0.8172803376304921, 'bogdan': 0.9337545336081952, 'kennyj': 0.9121669539158729, 'huacnlee': 0.9127845942928958, 'rizwanreza': 0.8690954105050768, 'chrisk': 0.8258244911736401, 'pwnall': 0.8865040815410419, 'raysrashmi': 0.8865040815410419, 'frewsxcv': 0.0, 'seuros': 0.8127198123058301, 'koenpunt': 0.8711098191807655, 'jsor': 0.0, 'agis': 0.0, 'spohlenz': 0.9337545336081952, 'p8': 0.9125938693107708, 'lukaszx0': 0.8109921774867529, 'yhirano55': 0.9003867174124598, 'shioyama': 0.8186405236605464, 'fcheung': 0.8777224998634582, 'kddnewton': 0.8755620335876003, 'adomokos': 0.0, 'tgxworld': 0.8317974031950144, 'lest': 0.8719851561007051, 'ghiculescu': 0.7712587693772819, 'asanghi': 0.93109122686111, 'joshk': 0.8523268473405445, 'fsouza': 0.0, 'brynary': 0.9011645008814804, 'ketan': 0.7066058461328222, 'thedarkone': 0.9079273841972643, 'tomafro': 0.8976660810046408, 'fatkodima': 0.8366433363867288, 'utilum': 0.9337545336081952, 'jorgemanrubia': 0.9337545336081952, 'Edouard-chin': 0.9275343033129093, 'eparreno': 0.8776654623548252, 'meinac': 0.7924139238775689, 'jasonnoble': 0.9529542418975532, 'willnet': 0.8654457403852771, 'luontola': 0.0, 'kuldeepaggarwal': 0.9457638346751853, 'henrik': 0.8818678775141287, 'gaurish': 0.8904115138769206, 'mhfs': 0.9068895985322258, 'robertomiranda': 0.8194278838379729, 'cpina': 0.0, 'jonatack': 0.8222471335657267, 'marcandre': 0.9425159304109022, 'cristianbica': 0.8016480556131289, 'connorshea': 0.9529542418975532, 'dasch': 0.8798090183956793, 'composerinteralia': 0.8670189273213113, 'ernie': 0.8396635392618345, 'amitsuroliya': 0.8896211117209557, 'albertoalmagro': 0.9999999999999997, 'pftg': 0.9191362745468151, 'jeffkreeftmeijer': 0.8345267455318397, 'ronakjangir47': 0.8865040815410419, 'mikdiet': 0.9337545336081952, 'Empact': 0.85222837180181, 'Gaurav2728': 0.8795674369342583, 'xeoneux': 0.0, 'alloy': 0.8544217133016031, 'dhh': 0.0, 'vishnuatrai': 0.9999999999999997, 'nicksieger': 0.8285300289264586, 'r00k': 0.9013678322995834, 'st0012': 0.9529542418975532, 'htanata': 0.9127845942928958, 'trevorturk': 0.8655548124601475, 'okuramasafumi': 0.8076595889757856, 'jbampton': 0.6776443510836307, 'danilopolani': 0.8396635392618345, 'jmbejar': 0.9999999999999997, 'josh': 0.0, 'kenta-s': 0.8961585325450423, 'aderyabin': 0.8439274665784926, 'etiennebarrie': 0.8832442530281601, 'al2o3cr': 0.8867089842091602, 'toretore': 0.9529542418975532, 'chuyeow': 0.8306204358826844, 'charlax': 0.0, 'alexcameron89': 0.7682148426111338, 'erikstmartin': 0.9337545336081952, 'franckverrot': 0.5791392409545347, 'pborreli': 0.7500648147232105, 'repinel': 0.7941757865675996, 'acapilleri': 0.9337545336081952, 'AvnerCohen': 0.9666320794692136, 'UlisesGascon': 0.0, 'davydovanton': 0.8923109210412565, 'yaroslav': 0.8545851067502265, 'lulalala': 0.8838463495867313, 'Manfred': 0.0, 'jroes': 0.8384149838865265, 'fredwu': 0.8411978493700865, 'dcrec1': 0.8743014905672729, 'frostming': 0.0, 'nertzy': 0.9297991927619504, 'packagethief': 0.8744140869829081, 'raybaxter': 0.862790873102002, 'rmacklin': 0.798221676895117, 'intrip': 0.9059085881135018, 'parndt': 0.732818397951737, 'tomstuart': 0.0, 'amacneil': 0.852318719709019, 'ricardotk002': 0.9999999999999997, 'tricknotes': 0.8616646455911825, 'derekprior': 0.0, 'jeffreyguenther': 0.0, 'katzgrau': 0.8867089842091602, 'oggy': 0.8452425879638079, 'maurogeorge': 0.9529542418975532, 'ankit8898': 0.8528914346653298, 'rstoyanchev': 0.8322774714121326, 'santib': 0.8961585325450423, 'fgo': 0.8891392357250656, 'hahmed': 0.9260647871240345, 'nijel': 0.0, 'HParker': 0.8856861954164562, 'vinistock': 0.9068895985322254, 'dmitry': 0.8138410067485176, 'dracos': 0.0, 'xuanxu': 0.9999999999999997, 'adrianna-chang-shopify': 0.8776654623548252, 'greysteil': 0.8074663047537565, 'harshadsabne': 0.8290095027644393, 'yuki24': 0.0, 'bf4': 0.8157739149814347, 'atd': 0.8961585325450423, 'joelhawksley': 0.847739351672472, 'take': 0.9127845942928958, 'jjaffeux': 0.0, 'lsylvester': 0.8245712773987413, 'maclover7': 0.0, 'Primigenus': 0.46458293440892806, 'tekin': 0.9999999999999997, 'aditya-kapoor': 0.9529542418975535, 'kbrock': 0.7921693837972434, 'evanfarrar': 0.8396635392618345, 'gregmolnar': 0.8682401574840073, 'rahul100885': 0.9038862945940581, 'thewoolleyman': 0.9107735579915408, 'zilkey': 0.0, 'JosephPecoraro': 0.8867089842091602, 'codeodor': 0.9394484165597582, 'stevenharman': 0.9337545336081952, 'bdewater': 0.7902962524808473, 'bquorning': 0.7719229124531923, 'bensie': 0.9337545336081952, 'kmcphillips': 0.8928361473864008, 'yskkin': 0.8127990222598267, 'scop': 0.0, 'eregon': 0.8436034877735444, 'iainbeeston': 0.8283874579242991, 'morgoth': 0.0, 'jeffwidman': 0.0, 'nateberkopec': 0.7923509616938466, 'rwz': 0.8346324872671764, 'rtlechow': 0.7924139238775689, 'mcfiredrill': 0.9127845942928955, 'nikolas': 0.0, 'akihiro17': 0.8735218868048901, 'Envek': 0.8409881594848521, 'andrehjr': 0.7924139238775689, 'jaredbeck': 0.7718850038867695, 'iamvery': 0.9529542418975532, 'krekoten': 0.9999999999999997, 'ptoomey3': 0.8794168564359431, 'sunny': 0.8410737856233745, 'sivsushruth': 0.8635169297727932, 'dalibor': 0.8218319850288106, 'FotoVerite': 0.9666320794692136, 'exviva': 0.853251548827538, 'roramirez': 0.8118175937671408, 'waseem': 0.9337545336081948, 'assain': 0.9529542418975532, 'Gargron': 0.0, 'polmuz': 0.0, 'DouweM': 0.9127845942928958, 'jcoleman': 0.8244805876624588, 'ceritium': 0.8646852019244013, 'h-lame': 0.9999999999999997, 'myronmarston': 0.9068895985322254, 'rspeicher': 0.9529542418975532, 'cmeiklejohn': 0.8623186796357587, 'jiripospisil': 0.9069508512588673, 'Foxandxss': 0.691764093766406, 'philwebb': 0.8094277016510062, 'rwinch': 0.8310257475438334, 'violetagg': 0.8865040815410419, 'bclozel': 0.8336792182469215, 'OlgaMaciaszek': 0.9337545336081952, 'markfisher': 0.8596729720388724, 'poutsma': 0.0, 'sdeleuze': 0.8530638839006413, 'sbrannen': 0.9529542418975532, 'mp911de': 0.8349878375598644, 'snicoll': 0.8630861667286809, 'dsyer': 0.8206458028882836, 'michael-simons': 0.9394484165597582, 'kazuki43zoo': 0.8540201953211125, 'wilkinsona': 0.8369530554634307, 'odrotbohm': 0.829666783736323, 'joshlong': 0.8392301182516694, 'nurkiewicz': 0.6660939893396929, 'danielfernandez': 0.8776654623548256, 'mdeinum': 0.9999999999999997, 'aclement': 0.8460418508541204, 'nebhale': 0.829009502764439, 'jeremyg484': 0.0, 'making': 0.8186424655362732, 'ramnivas': 0.0, 'gregturn': 0.7967532147370329, 'royclarkson': 0.8123014931859325, 'scottfrederick': 0.0, 'cbeams': 0.0, 'edeandrea': 0.0, 'jzheaux': 0.8349878375598647, 'vpavic': 0.0, 'ericbottard': 0.8851956031491707, 'garyrussell': 0.830359670945137, 'chenqimiao': 0.9999999999999997, 'ben-manes': 0.0, 'diguage': 0.8735964940657103, 'maciejwalkowiak': 0.0, 'hyeonisism': 0.9191362745468151, 'larsgrefer': 0.9529542418975532, 'marcphilipp': 0.9529542418975532, 'PascalSchumacher': 0.9999999999999997, 'ttddyy': 0.9529542418975528, 'wonwoo': 0.8349878375598644, 'bijukunjummen': 0.814910288291343, 'KangZhiDong': 0.9529542418975532, 'fouber': 0.9999999999999997, 'edevil': 0.9666320794692136, 'hantsy': 0.8694727603508254, 'jmnarloch': 1.0, 'lukefor': 0.0, 'mhalbritter': 0.8075403948382385, 'maverick1601': 0.0, 'eddumelendez': 0.0, 'YooInKeun': 0.9529542418975532, 'lee-garden': 0.9529542418975532, '0xflotus': 0.7135391670932791, 'secretGeek': 0.0, 'jankapunkt': 0.6373043556295861, 'nicroto': 0.7926181988329812, 'iamolegga': 0.0, 'toonvanstrijp': 0.0, 'andrejewski': 0.0, 'denislutz': 0.0, 'mpj': 0.9999999999999997, 'jmcdo29': 0.9666320794692136, 'dunglas': 0.8001919472085838, 'lonre': 0.8865040815410419, 'neiser': 0.9529542418975532, 'joshsusser': 0.0, 'johnlinp': 0.9999999999999997, 'malkusch': 0.9999999999999997, 'smaldini': 0.8894848468982551, 'akarnokd': 0.0, 'springmonster': 0.9529542418975532, 'johnktims': 0.9999999999999997, 'Shredder121': 0.0, 'Abdullah8006': 0.9999999999999997, 'bramp': 0.0, 'roamingthings': 0.7762143161712172, 'artembilan': 0.8441829243731285, 'origoni': 0.8075403948382385, 'dharkness': 0.9999999999999993, 'diegocastro': 0.8396635392618345, 'mpmont': 0.8053147126473752, 'erichelgeson': 0.9999999999999997, 'bobbywarner': 0.0, 'filiphr': 0.9999999999999997, 'Frederick888': 0.8961585325450427, 'gpakosz': 0.0, 'tempredirect': 0.9529542418975532, 'icha024': 1.0, 'igormukhin': 0.829009502764439, 'schauder': 0.8734966738496306, 'fj': 0.7453690021916679, 'JacobASeverson': 0.0, 'Xantier': 0.8190330609843051, 'ankurk91': 0.0, 'platan': 0.9332641850097045, 'Tony133': 0.9059085881135012, 'mkaufmaner': 0.7000402080547143, 'micalevisk': 0.9666320794692136, 'nartc': 0.5235769838037103, 'Papooch': 0.0, 'Hexenon': 0.0, 'johnbiundo': 0.9999999999999997, 'MarkPieszak': 0.4614002852729333, 'beeman': 0.5354651381185187, 'krzkaczor': 0.9999999999999997, 'gperdomor': 0.9999999999999997, 'fwoelffel': 0.9529542418975532, 'soyuka': 0.7841417931834138, 'mtarld': 0.9191362745468151, 'jderusse': 0.8381783097996668, 'sroze': 0.7847072632238155, 'teohhanhui': 0.8431621580349701, 'tuxmachine': 0.9999999999999997, 'Sikora00': 0.0, 'andreimc': 0.7453690021916679, 'poulad': 0.9191362745468151, 'vladotesanovic': 0.62761285189855, 'delasteve': 0.5235769838037103, 'chentsulin': 0.727893567703378, 'xdamman': 0.0, 'dimitropoulos': 0.9337545336081952, 'Aetherall': 0.7978250238849324, 'tmeasday': 0.8750443775469614, 'WonderPanda': 0.9057851664272187, 'techvlad': 0.0, 'Pasvaz': 0.0, 'alex-seville': 0.8618079524406219, 'everzet': 0.0, 'jsmarkus': 0.0, 'ioncreature': 0.0, 'FabienPennequin': 0.8319414698261727, 'ckdarby': 0.7556929649445353, 'jschaedl': 0.9091480881189135, 'raulriera': 0.0, 'mjnaderi': 0.9999999999999997, 'TrevorBurnham': 0.0, 'soygul': 0.0, 'copleykj': 0.9059085881135015, 'ZQun': 0.9068895985322254, 'hyj1991': 0.8314832875599699, 'kevincoleman': 0.9529542418975532, 'KASOGIT': 0.9999999999999997, 'Convly': 0.0, 'f3ath': 0.7066058461328222, 'amitport': 0.7168406404763946, 'andreialecu': 0.7323399085264886, 'caohuilin': 0.9059085881135018, 'wangkechun': 0.9367140046565219, 'Caballerog': 0.7014799164556691, 'Diluka': 0.9999999999999997, 'kamilmysliwiec': 0.0, 'Durairaj': 0.7522977159518981, 'IKatsuba': 0.7014799164556691, 'Jekiwijaya': 0.8020681655101649, '9renpoto': 0.8190330609843051, 'mattleff': 0.9069508512588673, 'paolomainardi': 0.9425159304109022, 'PaulMest': 0.9337545336081952, 'Reasno': 0.9059085881135015, 'tufanbarisyildirim': 0.8194829249387693, 'rarkins': 0.8411833274568803, 'ProbablePrime': 0.8294232398136483, '75lb': 0.0, 'ornicar': 0.8457530241403944, 'dsebastien': 0.6728853330986864, 'sixeyed': 0.9191362745468151, 'SuperHuangXu': 0.9999999999999997, 'borovik96': 0.9999999999999997, 'jeffminsungkim': 0.9059085881135018, 'merceyz': 0.8330019050216725, 'mookjp': 0.8723178397191879, 'wiasliaw': 0.9666320794692136, 'asnowwolf': 0.7631474749257341, 'glasser': 0.8752281310752342, 'taion': 0.0, 'dgreensp': 0.7223255674253453, 'mquandalle': 0.7304801679012229, 'avital': 0.9529542418975535, 'StorytellerCZ': 0.815365719707689, 'harryadel': 0.7120288363516134, 'brettle': 0.0, 'dburles': 0.771946922556227, 'lh0x00': 0.0, 'DavidSichau': 0.9332641850097045, 'filipenevola': 0.7978250238849324, 'zodern': 0.9191362745468151, 'abernix': 0.7918230701448099, 'zimme': 0.9999999999999997, 'zol': 0.9529542418975532, 'cmather': 0.7925937834703756, 'possibilities': 0.0, 'martijnwalraven': 0.9529542418975532, 'renanccastro': 0.8665284743378042, 'sakulstra': 0.9529542418975532, 'matheusccastroo': 0.8438283681352141, 'denihs': 0.8588630387144667, 'arbesfeld': 0.8588630387144667, 'hwillson': 0.6401428339120641, 'lorensr': 0.7231326384683436, 'awatson1978': 0.8796693770191157, 'sebakerckhof': 0.8168984093184252, 'wojtkowiak': 0.0, 'jshimko': 0.0, 'jamielob': 0.7647722533382876, 'vkarpov15': 0.9195863735176417, 'jamesmillerburgess': 0.7756769799968551, 'BrianMulhall': 0.8588630387144667, 'laosb': 0.7817481597577314, 'matteodem': 0.7921386339788047, 'Tarang': 0.6519862703283014, 'mpowaga': 0.7647722533382876, 'olragon': 0.7701574594176237, 'SachaG': 0.7610182102702451, 'rzymek': 0.8867089842091602, 'html5cat': 0.7777140066967289, 'skirunman': 0.9059085881135015, 'lpender': 0.8794168564359431, 'fredmaiaarantes': 0.9332641850097045, 'Grubba27': 0.9059085881135015, 'brucejo75': 0.5261688416386687, 'timhaines': 0.8804409405924815, 'bengott': 0.0, 'mizzao': 0.6514828053259629, 'shangxiao': 0.0, 'nathan-muir': 0.7926181988329812, 'arggh': 0.7780054681491086, 'klaussner': 0.0, 'nlhuykhang': 0.6723344232317008, 'vparpoil': 0.9999999999999997, 'subhog': 0.7767723284212921, 'fjsj': 0.0, 'RobertLowe': 1.0, 'edemaine': 0.903736326727773, 'aldeed': 0.0, 'awwx': 0.0, 'wildhart': 0.8867089842091602, 'coagmano': 0.7647722533382876, 'Fabs': 0.7997928680509203, 'namenotrequired': 0.7592260978810097, 'dolgarev': 0.7193797113762588, 'delki8': 0.9529542418975532, 'trusktr': 0.8145665363373366, 'mutdmour': 0.9999999999999997, 'meonkeys': 0.930944030339745, 'jwage': 0.9999999999999997, 'rj-david': 0.8299787521393344, 'CaptainN': 0.7705435960434591, 'netanelgilad': 0.6729036590112316, 'veered': 0.8344819876065739, 'rdickert': 0.6962167696924739, 'brooksbecton': 0.9529542418975535, 'estark37': 0.9999999999999997, 'fknipp': 0.9999999999999997, 'rgoomar': 0.9059085881135015, 'TomFreudenberg': 0.775383021832384, 'MichaelJCole': 0.8908739871316663, 'maxnowack': 0.81525981669854, 'ecwyne': 0.7749639917395984, 'queso': 0.7810452545388015, 'robertpitt': 0.838637672303151, 'realyze': 0.7286316395680021, 'sdarnell': 0.9529542418975532, 'elie222': 0.6192450885133729, 'mjmasn': 0.8486273714726223, 'pradel': 0.8588630387144667, 'theadactyl': 0.9529542418975532, 'theodorDiaconu': 0.9191362745468151, 'arghav': 0.8273039348074919, 'MasterAM': 0.8118175937671408, 'carlosbaraza': 0.8759820963896161, 'chris-visser': 0.8665284743378042, 'znewsham': 0.8908739871316663, 'benweissmann': 0.9999999999999997, 'vlasky': 0.0, 'ChangJoo-Park': 0.9763545501025435, 'clarkdo': 0.0, 'franciscop': 0.0, 'spang': 0.8862185312256529, 'danahmadi': 0.9529542418975528, 'apendua': 0.9191362745468151, 'TimeBandit': 0.9666320794692136, 'kevinchiu': 0.9059085881135015, 'maxpain': 0.8867089842091602, 'gsuess': 0.9332641850097045, 'henriquealbert': 0.9059085881135018, 'paulincai': 0.8646852019244013, 'rissem': 0.8331606581420687, 'npvn': 0.7921275368792925, 'theosp': 0.9999999999999997, 'fakenickels': 0.6514828053259629, 'ocdtrekkie': 0.8998963166297931, 'kentonv': 0.0, 'JeremySaks': 0.7926181988329812, 'hexsprite': 0.8006464954584387, 'macrozone': 0.8776654623548252, 'milesmatthias': 0.7453690021916679, 's7dhansh': 0.7997928680509203, 'zvictor': 0.5502112150068732, 'robfallows': 0.0, 'distalx': 0.8259614951977112, 'evolross': 0.8331606581420687, 'morloy': 0.9666320794692136, 'radekmie': 0.0, 'AlexeyMK': 0.9999999999999997, 'iKevinY': 0.0, 'jedwards1211': 0.9337545336081952, 'TechplexEngineer': 0.7861151609605472, 'bradvogel': 0.8684647785024314, 'bpartridge': 0.9999999999999997, 'gasman': 0.0, 'brylie': 0.9332641850097045, 'akx': 0.0, 'csellis': 0.9529542418975528, 'okland': 0.8240236227754953, 'newswim': 0.9342323370920178, 'd4nyll': 0.7066058461328222, 'workmad3': 0.9529542418975532, 'DylanKojiCheslin': 0.7678972468535216, 'edward': 0.8318916309677794, 'eric-burel': 0.8529452040016648, 'egtann': 0.8331606581420687, 'graemian': 0.8588630387144667, 'shwaydogg': 0.8118175937671412, 'jackkav': 0.7708706227237379, 'jperl': 0.482071059134657, 'markstory': 0.0, 'MichelFloyd': 0.8396635392618345, 'jamiter': 0.8588630387144667, '4e4c52': 0.8961585325450423, 'charpeni': 0.7725064531625718, 'omeid': 0.81525981669854, 'prayagverma': 0.7724747854651156, 'cvrebert': 0.0, 'rhyslbw': 0.9999999999999997, 'SimonSimCity': 0.6416540417345437, 'pathway27': 0.9529542418975532, 'StanLindsey': 0.7925937834703756, 'musically-ut': 1.0, 'victoriaquasar': 0.9191362745468151, 'sebastienros': 0.9158969284155258, 'fay-jai': 0.8867089842091602, 'fgm': 0.8979756311343947, 'bastiW': 1.0, 'claudiosdc': 0.9529542418975532, 'georgyberdyshev': 0.9529542418975535, 'menelike': 0.9999999999999997, 'heithemmoumni': 0.9666320794692136, 'captainsafia': 0.9529542418975532, 'zicai': 0.9999999999999997, 'Medicean': 0.0, 'alromh87': 0.8776654623548252, 'AlexanderS': 0.7926181988329812, 'birdage': 0.9454369703888994, 'andylash': 0.5199229346307335, 'trandromeda': 0.8867089842091602, 'aramix': 0.8010423815349188, 'avishaan': 0.9121669539158729, 'jiku': 0.49505857300808953, 'soupette': 0.9999999999999997, 'alexandrebodin': 0.0, 'lauriejim': 0.9999999999999997, 'Aurelsicoko': 0.0, 'gu-stav': 0.8776654623548252, 'HichamELBSI': 0.9999999999999997, 'simotae14': 0.8020681655101649, 'WaleedAshraf': 0.0, 'iicdii': 0.9059085881135015, 'nvh95': 0.8261993845760295, 'johannpinson': 0.9529542418975532, 'ScottAgirs': 0.9529542418975532, 'sundaycrafts': 0.9059085881135015, 'MartinMuzatko': 0.9529542418975532, 'sajjad-shirazy': 0.8588630387144667, 'Mcastres': 0.9191362745468151, 'nurikabe': 0.9529542418975532, 'stealth35': 0.0, 'egeloen': 0.9068895985322254, 'sekmet': 0.5789176322311272, 'gillesdemey': 0.9592002877751834, 'anjalirathor622': 0.9529542418975532, 'AnjaliMahawar': 0.9529542418975532, 'binggg': 0.8460491447086074, 'kuldipem': 0.6317338646030966, 'Repox': 0.9332641850097045, 'hansemannn': 0.9666320794692136, 'nazrdogan': 0.9999999999999997, 'jskorepa': 0.9059085881135015, 'bahdcoder': 0.9059085881135015, 'luanorlandi': 0.8463994997113025, 'Nsbx': 0.8442979075807432, 'tentacode': 0.0, 'uinz': 0.8776654623548252, 'adriatic': 0.8020681655101652, 'epegzz': 0.9999999999999997, 'valerianpereira': 0.9457638346751853, 'dr5hn': 0.9457638346751853, 'crweiner': 0.0, 'abelsoares': 0.9999999999999997, 'aplr': 0.9059085881135015, 'tapvt': 0.8190330609843051, 'blueyed': 0.0, 'MattieBelt': 0.0, 'jamesdbruner': 0.9529542418975532, 'jlsjonas': 0.9091480881189135, 'konstantinmuenster': 0.8020681655101649, 'bykof': 0.9999999999999997, 'velopert': 0.9529542418975532, 'speedwheel': 0.9999999999999997, 'patrickblackjr': 0.847739351672472, 'dearprakash': 0.9191362745468151, 'rogix': 0.8020681655101645, 'davidmauskop': 0.8961585325450423, 'Toyrone': 0.9342323370920178, 'dead-horse': 0.840791050270638, 'fengmk2': 0.8702273520812501, 'tejasmanohar': 0.8342826282151006, 'manuelkiessling': 0.0, 'Pana': 0.0, 'fl0w': 0.9012501831088472, 'PlasmaPower': 0.8983912818246508, 'CodingPower472': 0.8588630387144667, 'tinovyatkin': 0.9059085881135015, 'targos': 0.7988454083990633, 'doug-wade': 0.9031710657551306, 'neighborhood999': 0.7455729629894358, 'iyuq': 0.8961585325450427, 'alsotang': 0.8263830989786698, 'fundon': 0.8486273714726223, 'yanickrochon': 0.0, 'Jeff-Tian': 0.9454369703888994, 'demopark': 0.0, 'axetroy': 1.0, 'DanielRuf': 0.0, 'ronag': 0.7911130067085793, 'BridgeAR': 0.8143447011517573, 'yorkie': 0.8868218042153784, 'we11adam': 0.9195863735176417, 'cjihrig': 0.0, 'shfshanyue': 0.8418373343944578, 'wb14123': 0.0, 'buzuosheng': 0.7734189084841294, 'aesopwolf': 0.9191362745468151, 'AlbertAZ1992': 0.9529542418975532, 'nvartolomei': 0.9999999999999997, 'tryzniak': 0.9191362745468151, 'purepennons': 0.8129258286963861, 'jonathanong': 0.0, 'tarqd': 0.7940456563216276, 'lancepioch': 0.0, 'darrencauthon': 0.8796082171285664, 'dobesv': 0.7549366026623126, 'Gerhut': 0.9059085881135015, 'vyasriday': 0.7341741105362385, 'jancarloviray': 0.7453690021916679, 'th507': 0.81525981669854, 'jbergstroem': 0.862790873102002, 'josephlin55555': 0.8020681655101649, 'julienw': 0.7039001637554579, 'kwngo': 0.8118175937671408, 'karlbohlmark': 0.8801667985129572, 'kennethormandy': 0.8961585325450423, 'igorw': 0.829666783736323, 'kwyn': 0.6276128518985495, 'madarche': 1.0, 'cenkalti': 0.0, 'olleolleolle': 0.8208628681409545, 'pkuczynski': 0.8559511259285312, 'chemzqm': 0.9068895985322254, 'snowyu': 0.8827256386490347, 'robinpokorny': 0.8020681655101649, 'saadq': 0.9999999999999997, 'hiroppy': 0.0, 'shaunwarman': 0.9191362745468151, 'lagden': 0.8016331294296757, 'vijaykrishnavanshi': 0.9003867174124598, 'vikr01': 0.9666320794692136, 'wong2': 0.8956957884382586, 'ztanner': 0.9529542418975532, 'bhanuc': 0.9529542418975532, 'zhaosaisai': 0.8239884993912812, 'gyson': 0.9191362745468151, 'tmilewski': 0.9666320794692136, 'jonahsnider': 0.0, 'urugator': 0.8776654623548252, 'zzzs': 0.9592002877751834, 'kevinsmith': 0.0, 'safarishi': 0.8720908295994894, 'JessonChan': 0.960174909177569, 'lunny': 0.0, 'slene': 0.9568341097679547, 'fanngyuan': 0.9529542418975532, 'jianzhiyao': 1.0, 'flycash': 0.0, 'withshubh': 0.0, 'miraclesu': 0.9578746939983531, 'fuxiaohei': 0.9666320794692136, 'ngaut': 0.9059085881135015, 'ysqi': 0.7828411971481198, 'songtianyi': 0.0, 'AllenX2018': 0.9529542418975532, 'amrfaissal': 0.8486083377972004, 'GNURub': 0.81235242669272, 'gadelkareem': 0.972718479401449, 'nichtsen': 0.9999999999999997, 'szyhf': 0.0, 'DennisMao': 0.9666320794692136, 'wangjohn': 0.0, 'a631807682': 0.9666320794692136, 'sergeylanzman': 0.9999999999999997, 'bsingr': 0.8918548583110864, 'fugr': 0.8365088064484992, 'BorisBorshevsky': 0.9666320794692136, 'Bobochka': 0.9529542418975532, 'tossp': 0.9193412122623577, 'danhunsaker': 0.9195863735176417, 'coseyo': 0.9666320794692136, 'lonnieezell': 0.9999999999999997, 'DeanThompson': 0.0, 'WithGJR': 0.7530338101018716, 'pylemon': 0.9999999999999993, 'carljm': 0.0, 'youngsterxyf': 0.0, 'codeskyblue': 0.9389372245752403, 'abelzhou': 0.7819652112080203, 'xpzouying': 0.9999999999999993, 'eranyanay': 0.0, 'luosangnanka': 0.8665284743378042, 'two': 0.9999999999999997, 'wangle201210': 0.9121669539158729, 'onetodo': 0.9999999999999997, 'sidbusy': 0.0, 'Colstuwjx': 0.5377841726460566, 'philchia': 0.9999999999999997, 'reterVision': 0.9999999999999997, 'zhlicen': 0.9529542418975532, 'Codexiaoyi': 1.0, 'Windfarer': 0.0, 'pdf': 0.957014294993315, '0x0400': 0.9529542418975532, 'ansiz': 0.8588630387144667, 'benlovell': 0.8912158280761137, 'cloudaice': 0.9615138345161004, 'shuoli84': 0.9999999999999997, 'jagill': 0.0, 'wuranbo': 0.9999999999999997, 'johndeng': 0.9999999999999997, 'gitchs': 0.9999999999999997, 'StanSun': 0.9666320794692136, 'xuxueyun': 0.8743372515606691, 'dramirez-qb': 0.9763545501025435, 'yohanboniface': 0.0, 'philippgille': 0.9999999999999997, 'pricees': 0.8961585325450423, 'eyalpost': 0.9529542418975532, 'dawehner': 1.0, 'ggicci': 0.9999999999999997, 'corburn': 0.8401542012155239, '4eek': 0.9337545336081952, 'lidaobing': 0.9529542418975532, 'Max-Liu': 0.8665284743378042, 'Jeff885': 0.9999999999999997, 'snedzad': 0.9999999999999997, 'priteshgudge': 0.8020681655101652, 'admpub': 0.8235901173908514, 'qichengzx': 0.9666320794692136, 'saromanov': 0.9999999999999997, 'simman': 0.8053554322827878, 'hxy1991': 0.9529542418975532, 'iamzhout': 0.9529542418975535, 'jkocherhans': 0.0, 'hvnsweeting': 0.8551286526581174, 'lexmag': 0.0, 'wuyumin': 0.9529542418975532, 'svenstaro': 0.0, 'axfor': 0.9529542418975532, 'stof': 0.8166507079304263, 'chenghuama': 0.9332641850097045, 'hellomrleeus': 0.9529542418975532, 'whilei': 0.8797152040385134, 'legendtkl': 0.9666320794692136, 'ljyf5593': 0.972718479401449, 'robberphex': 0.9332641850097045, 'LyricTian': 0.6592419090207877, 'mengskysama': 0.9999999999999997, 'sc0Vu': 0.8654938836885964, 'simpleton': 0.9091480881189135, 'nicolas-grekas': 0.5776441466379525, 'Kocal': 0.6675751337828502, 'xabbuh': 0.7167845107763756, 'csarrazi': 0.0, 'raulfraile': 0.8478222476918755, 'linaori': 0.9529542418975532, 'Haehnchen': 0.9337545336081952, 'boekkooi': 0.9285316225535942, 'jakzal': 0.0, 'fabpot': 0.0, 'cordoval': 0.7244701971737671, 'scheb': 0.0, 'derrabus': 0.6334798537804924, 'chr-hertel': 0.5386865779430621, 'alcaeus': 0.7256806816901868, 'thorsten': 1.0, 'Tobion': 0.9592002877751834, 'webmozart': 0.9529542418975528, 'chalasr': 0.7215489390496551, 'lyrixx': 0.7300248084942296, 'wouterj': 0.8685321669478809, 'jmikola': 0.8857685105685934, 'avalanche123': 0.8791916431178971, 'craue': 0.7927399141550866, 'tgalopin': 0.0, 'digitalkaoz': 0.823890269477404, 'emodric': 0.8138093747805379, 'ogizanagi': 0.8364809034785601, 'javiereguiluz': 0.8211828863332493, 'shyim': 0.8655548124601475, 'Korbeil': 0.7416387958947689, 'welcoMattic': 0.7579981970469984, 'francisbesset': 0.5731106744655636, 'lsmith77': 0.8525959453086696, 'liuggio': 0.0, 'frankdejonge': 0.8961585325450423, 'BillWagner': 0.0, 'fancyweb': 0.7997877415717708, 'vicb': 0.8686142094787344, 'dmaicher': 0.6573827088253439, 'Burgov': 0.9615138345161004, 'romainneutron': 0.718364742870011, 'rande': 0.0, 'guilhermeblanco': 0.9148460840696653, 'gimler': 0.8909261755511959, 'bshaffer': 0.0, 'coderabbi': 0.0, 'yceruto': 0.8398892111722366, 'GromNaN': 0.7431461094834999, 'toopay': 0.0, 'phansys': 0.7756450566339618, 'joelwurtz': 0.9529542418975535, 'armetiz': 0.8675705217884053, 'kenjis': 0.71418496521397, 'alexander-schranz': 0.7089944590551728, 'soullivaneuh': 0.8792943754755049, 'kbond': 0.6247633820760694, 'jaytaph': 0.9158969284155258, 'dbu': 0.8054763339424065, 'rogeriopradoj': 0.8203135727596533, '77web': 0.9615138345161004, 'aitboudad': 0.7356298713750884, 'stloyd': 0.6382006213819578, 'fre5h': 0.9999999999999997, 'merk': 0.8913175563078788, 'HeahDude': 0.7815394430705123, 'hason': 0.8245171343588954, 'Herzult': 0.8028672960580396, 'jfsimon': 0.9191362745468151, 'issei-m': 0.9057736767425568, 'ostrolucky': 0.7009510092749427, 'Simperfit': 0.8212177092310369, 'mpdude': 0.7849224356517164, 'vudaltsov': 0.6684689762668503, 'ivan-kleshnin': 0.0, 'jsamouh': 0.0, 'maidmaid': 0.7956423153893301, 'pierredup': 0.7568064816684538, 'alcohol': 0.0, 'pgodel': 0.8625490162244593, 'greg0ire': 0.7504235111529461, 'Padam87': 0.9529542418975535, 'Koc': 0.9085460965877635, 'mazen': 0.9529542418975532, '1ed': 0.7683640424068945, 'keradus': 0.7376972201421936, 'localheinz': 0.0, 'johnkary': 0.7556929649445353, 'saro0h': 0.8395827117450876, 'l-vo': 0.8916293945586168, 'dlsniper': 0.8766505241249238, 'josem': 0.0, 'King2500': 0.8380374733242819, 'uwej711': 0.9337545336081952, 'pulzarraider': 0.8525991281165367, 'Toflar': 0.7052607883743862, 'VincentLanglet': 0.0, 'enumag': 0.6310935631485147, 'DusanKasan': 0.0, 'DQNEO': 0.0, 'mweimerskirch': 0.8861405293196076, 'franmomu': 0.8151463673677442, 'yethee': 0.9127845942928955, 'noniagriconomie': 0.6573827088253439, 'aboks': 0.9592002877751834, 'rouffj': 0.8421915184983841, 'havvg': 0.8409587876959859, 'hacfi': 0.8914332091892805, 'alexpott': 0.0, 'l3l0': 0.7928831466981412, 'hidenorigoto': 0.9529542418975532, 'iteman': 1.0, 'brikou': 0.8029670732621452, 'lmcd': 0.9191362745468151, 'shieldo': 0.8502005399581342, 'elnur': 0.8448427239265012, 'johnwards': 0.9999999999999997, 'julienfalque': 0.9666320794692136, 'norkunas': 0.7151795974674324, 'sstok': 0.8888330009874843, 'kassio': 0.0, 'azjezz': 0.7699293911561684, 'garak': 0.7460373224387946, 'Jean85': 0.8333269788743872, 'lenar': 0.9337545336081948, 'SpacePossum': 0.9999999999999997, 'GuilhemN': 0.0, 'danielholmes': 0.9999999999999997, '94noni': 0.6407024541667183, 'jdreesen': 0.8395366085795571, 'kalessil': 0.0, 'colinfrei': 0.9425159304109022, 'tucksaun': 0.7781089820487841, 'Taluu': 0.8691187390219697, 'malteschlueter': 0.8545851067502265, 'richardmiller-zz': 0.8922515633173783, 'ausi': 0.0, 'petk': 0.6806132518243592, 'eryx': 0.9999999999999997, 'maxhelias': 0.8930406902993954, 'mhujer': 0.85784819478776, 'ruudk': 0.7770526830358744, 'jvasseur': 0.9068895985322254, 'ismail1432': 0.9337545336081948, 'hhamon': 0.8362524350924568, 'deguif': 0.7731869791180203, 'jeremyFreeAgent': 0.7604624816461749, 'gharlan': 0.9191362745468151, 'azatyan': 0.9191362745468151, 'alekitto': 0.7425565235539608, 'IonBazan': 0.862858788333813, 'shiroyuki': 0.9666320794692136, 'michalpipa': 0.9666320794692136, 'jwdeitch': 0.9529542418975532, 'andreia': 0.9148460840696653, 'bendavies': 0.8494292052565816, 'colinodell': 0.8630638665663329, 'a-h-abid': 0.9059085881135015, 'curry684': 0.803567599164671, 'helmer': 0.8562107835710593, 'Slamdunk': 0.8269373179472981, 'acasademont': 0.8158134358286443, 'rvanlaak': 0.8474021836899235, 'magnetik': 0.9666320794692136, 'gmponos': 0.7545401018704393, 'MacDada': 0.7408057310262182, 'jonathaningram': 0.9408338003718398, 'jirfag': 0.0, 'maoueh': 0.7431394573075571, 'voronkovich': 0.9999999999999997, 'a1812': 0.9425159304109022, 'TysonAndre': 0.9024513233276306, 'vincentaubert': 0.7990042642428121, 'atailouloute': 0.9337545336081952, 'jrushlow': 0.6067099455341564, 'michaelKaefer': 0.8322128583701258, 'realityking': 0.8245548272169471, 'Jeroeny': 0.9457638346751853, 'samnela': 0.7648709651822206, 'zairigimad': 0.85784819478776, 'gaetan-petit': 0.0, 'X-Coder264': 0.952709106721867, 'alexandre-daubois': 0.0, 'monteiro': 0.9999999999999997, 'mbabker': 0.9529542418975528, 'rpkamp': 1.0, 'kix': 0.7850190564339486, 'TimoBakx': 0.8655803345545277, 'sun': 0.9999999999999997, 'Nek-': 0.864409934539327, 'nesk': 0.0, 'fbourigault': 0.9666320794692136, 'simPod': 0.8322143850644125, 'raziel057': 0.9425159304109022, 'bocharsky-bw': 0.7575202484657368, 'Pierstoval': 0.8006947447483007, 'alexislefebvre': 0.8420910199363664, 'Alymosul': 0.0, 'subosito': 0.8491132967014969, 'BoShurik': 0.9068895985322254, 'seferov': 0.9367140046565219, 'malarzm': 0.8394589503497097, 'mvorisek': 1.0, 'micheleorselli': 0.8361052579614777, 'akalongman': 0.0, 'nikophil': 0.9529542418975532, 'scuben': 0.803567599164671, 'pkruithof': 0.9068895985322254, 'rrehbein': 0.9999999999999997, 'robfrawley': 0.8424124818320299, 'lavoiesl': 0.7775932205363428, 'zanbaldwin': 0.8020681655101649, 'ThomasLandauer': 0.6273886397982507, 'alanpoulain': 0.8325184777833046, 'bastnic': 0.8127990222598267, 'duncan3dc': 0.8059488127685378, 'frosas': 0.822049159245087, 'giosh94mhz': 0.8143447011517573, 'sallaigy': 0.6573827088253439, 'peluprvi': 0.0, 'iambrosi': 0.7519583758205111, 'zerkms': 0.7968121598021067, 'JanDC': 0.7151867988889143, 'jaugustin': 1.0, 'kimhemsoe': 0.9529542418975532, 'marphi': 0.9068895985322254, 'ocrampete16': 0.6531856786015422, 'lemoinem': 0.9438839908808823, 'hollodk': 0.6573827088253439, 'oleg-andreyev': 0.731321110719897, 'scaytrase': 0.7833779415396063, 'pylebecq': 0.8951050229180855, 'seriquynh': 0.46330374797136176, 'spawnia': 0.0, 'Nicofuma': 0.9999999999999997, 'wodor': 0.9394484165597582, 'yoannrenard': 0.9999999999999997, 'Zeno-Code': 0.9999999999999997, 'hiveminded': 0.9529542418975532, 'majidbigdeli': 0.9999999999999997, 'yale8848': 0.9999999999999997, 'tuhao1020': 1.0, 'bgaitanc': 0.9999999999999997, 'chengyumeng': 0.9999999999999997, 'AlexJuca': 0.9999999999999993, 'liguoqinjim': 0.9999999999999997, 'wozz': 0.9666320794692136, 'cainiaoDJ': 0.9999999999999997, 'aermolaev': 0.9999999999999997, 'qRoC': 0.8750819487770225, 'codehakase': 0.9666320794692136, 'cq-z': 0.9999999999999997, 'needkane': 0.9999999999999997, 'HintikkaKimmo': 0.9999999999999997, 'robertocr': 1.0, 'slashtu': 0.9999999999999997, 'Ibuki-Suika': 0.9999999999999997, 'yushuailiu': 0.9999999999999997, 'aa1143': 0.9999999999999997, 'gongchao': 0.9999999999999997, 'hyhkjiy': 0.9999999999999997, 'beluxx': 0.6180597668445151, 'mlboy': 0.9999999999999997, 'sy264115809': 0.9999999999999997, 'alexbilbie': 0.9999999999999997, 'andrewgodwin': 0.0, 'it-can': 0.9332641850097045, 'ivantcholakov': 0.9332641850097045, 'purwandi': 0.9529542418975532, 'joelcox': 0.8363110502480294, 'darkhouse': 0.8194829249387693, 'galdiolo': 0.8822631903794081, 'ytetsuro': 0.6793287508206566, 'sapics': 0.847739351672472, 'ftwbzhao': 0.7510557514086011, 'jim-parry': 0.0, 'davidbarratt': 0.8075403948382385, 'avenirer': 0.802219729650764, 'mchobbylong': 1.0, 'roastduck': 0.0, 'caioariede': 0.0, 'samsonasik': 0.7113222112650095, 'ounziw': 0.6793287508206566, 'druu': 0.8346561270611872, 'katsew': 0.8776654623548252, 'dhrrgn': 0.8988735027026556, 'seppevs': 0.0, 'eddmann': 0.0, 'jwensley2': 1.0, 'GDmac': 0.0, 'andrew-s': 0.9999999999999997, 'chernjie': 0.9191362745468151, 'nihaopaul': 0.8424124818320299, 'diogoosorio': 0.0, 'marcoscoelho': 0.9337545336081952, 'WanWizard': 0.7518006440183955, 'tubalmartin': 0.8998963166297931, 'dionysiosarvanitis': 0.5381943003902271, 'zachflower': 0.9999999999999997, 'yaoshanliang': 0.7556929649445353, 'sourcejedi': 0.9529542418975532, 'MianSaleem': 0.9529542418975532, 'mwhitneysdsu': 0.9529542418975532, 'kadishmal': 0.9191362745468151, 'fredemmott': 0.9666320794692133, 'jeroenvdgulik': 0.8463826197328522, 'radupotop': 0.9059085881135015, 'slax0rr': 0.8118175937671408, 'hex-ci': 0.9337545336081952, 'JonoB': 0.6086257157449537, 'Garbee': 0.0, 'lracicot': 0.9999999999999997, 'p4ul': 0.9999999999999997, 'pongstr': 0.0, 'SammyK': 0.6889581961446983, 'srtfisher': 0.8336511633430895, 'suhindra': 0.6828872675886176, 'rochefort': 0.7596660938341169, 'iolufemi': 0.9032835452689338, 'caseyh': 0.9529542418975532, 'rosseti': 0.6793287508206566, 'burakerdem': 0.9059085881135015, 'JackWH': 0.9999999999999997, 'eweap': 0.8523879143752304, 'ApOgEE': 0.8912158280761137, 'NickBusey': 0.9999999999999997, 'stephenfrank': 0.9337545336081952, 'thallisphp': 0.7861487450374895, 'ktomk': 0.8260186486657417, 'webquail': 0.9059085881135015, 'mrw': 0.9999999999999997, 'wesbaker': 0.0, 'albertleao': 0.9999999999999997, 'assembledadam': 0.9999999999999997, 'sukrosono': 0.6442766524242354, 'amir-s': 0.9666320794692136, 'refringe': 0.0, 'pfote': 0.8396635392618345, 'brettsantore': 0.9999999999999997, 'shaffe-fr': 0.4358105233214442, 'stgeneral': 0.9999999999999997, 'antydemant': 0.8588630387144667, 'ilatif': 0.8194829249387693, 'jpswade': 0.9999999999999997, 'kitsunde': 0.9999999999999997, 'patrys': 0.0, 'lloricode': 0.704803217720269, 'richlander': 0.9191362745468151, 'mairaw': 0.7437817249066688, 'jongalloway': 0.8686348730230601, 'karelz': 0.9529542418975532, 'jaredpar': 0.8152963748703725, 'terrajobst': 0.9056634007702948, 'safern': 0.9454369703888994, 'italopessoa': 0.0, 'natemcmaster': 0.0, 'Petermarcu': 0.9999999999999997, 'bleroy': 0.0, 'carlossanlop': 0.9337545336081952, 'ericstj': 0.8964001552576981, 'danmoseley': 0.9159456067138209, 'eerhardt': 0.0, 'noahfalk': 0.8926969970328861, 'marcpopMSFT': 0.9999999999999997, 'lewing': 0.0, 'danroth27': 0.8961585325450423, 'davidfowl': 0.9057736767425568, 'wtgodbe': 0.8720908295994894, 'Pilchie': 0.9091480881189138, 'martincostello': 0.9068895985322254, 'dsplaisted': 0.9337545336081952, 'nguerrera': 0.8460491447086074, 'jo-ninja': 0.8961585325450423, 'tmat': 0.8848855028703215, 'AArnott': 0.9007988942713134, 'kendrahavens': 0.8152963748703725, 'pranavkm': 0.898015078149369, 'radical': 0.9999999999999997, 'BethMassi': 0.8152963748703725, 'MihaZupan': 0.8961585325450423, 'jkotalik': 0.9102077572324401, 'Eilon': 0.8680001467102172, 'shirhatti': 0.9127845942928958, 'KathleenDollard': 0.9999999999999997, 'BrennanConroy': 0.8861405293196076, 'NTaylorMullen': 0.8602832864253316, 'halter73': 0.8894848468982551, 'jonathanpeppers': 0.929308818073454, 'ahsonkhan': 0.9999999999999997, 'weshaggard': 0.0, 'DamianEdwards': 0.8484458266320772, 'HaoK': 0.9191362745468151, 'javiercn': 0.0, 'SyntaxC4': 0.0, 'svick': 0.8954909029193937, 'cartermp': 0.8235119159101307, 'Youssef1313': 0.9238205379911301, 'Rick-Anderson': 0.9191362745468151, 'arthurrump': 0.0, 'dagood': 0.9529542418975532, 'RheaAyase': 0.9999999999999997, 'omajid': 0.0, 'baronfel': 0.808293626465494, 'mthalman': 0.9529542418975532, 'MichalStrehovsky': 0.8961585325450423, 'matthid': 0.9529542418975532, 'enricosada': 0.8961585325450423, 'Happypig375': 0.8250454891706361, 'jchannon': 0.7944443737721943, 'filipw': 0.9529542418975532, 'vcsjones': 0.7654242906440129, 'krwq': 0.9191362745468151, 'MichaelSimons': 0.9666320794692136, 'rainersigwald': 0.8639194467459971, 'scottaddie': 0.9337545336081952, 'stephentoub': 0.9191362745468151, 'WeihanLi': 0.8852567695873902, 'jnm2': 0.9260647871240345, 'IDisposable': 0.8885092036471334, 'blowdart': 0.0, 'am11': 0.9425159304109022, 'peterhuene': 0.9191362745468151, 'batzen': 0.7657538910684947, 'bbowyersmyth': 0.9191362745468151, 'scalablecory': 0.9529542418975532, 'WiredUK': 0.7657538910684947, 'dpen2000': 0.8961585325450423, 'drewnoakes': 0.8598442581033722, 'eloekset': 0.9191362745468151, 'johnkors': 0.9191362745468151, 'etbyrd': 0.9529542418975532, 'ebekker': 0.9529542418975532, 'rs38': 0.9666320794692136, 'RussKie': 0.8598442581033722, 'tju': 0.9999999999999997, 'stojanovic': 0.0, 'davidortinau': 0.0, 'keichinger': 0.9191362745468151, 'cygnim': 0.8020681655101649, 'maartenba': 0.9529542418975532, 'LadyNaggaga': 0.8848807542299705, 'rowanmiller': 0.0, 'mrward': 0.9999999999999997, 'mikehaas763': 0.9191362745468151, 'perlun': 0.9999999999999993, 'sandyarmstrong': 0.8579141985216591, 'dotnet-bot': 0.9529542418975532, 'tobsn': 0.8655803345545277, 'morrislaptop': 0.8906829736400312, 'jnoordsij': 0.6086257157449546, 'mvdnbrk': 0.6115227698047456, 'netpok': 0.5383831402547938, 'aryehraber': 0.6192767330554986, 'claudiodekker': 0.0, 'chrishow': 0.9529542418975532, 'Codeklopper': 0.8908739871316663, 'danijelk': 0.5381943003902271, 'epalmans': 0.7218305920897756, 'martinssipenko': 0.7874802289462501, 'nbayramberdiyev': 0.5079496302205402, 'Nirlah': 0.568339691194294, 'HepplerDotNet': 0.9999999999999997, 'pulkitjalan': 0.7218305920897756, 'balping': 0.9999999999999997, 'CupOfTea696': 0.9529542418975535, 'KristofMorva': 0.0, 'abenerd': 0.6192767330554989, 'sashashura': 0.7041098545374451, 'alexleeelkins': 0.7556929649445353, 'amayer5125': 0.9999999999999997, 'ikari7789': 0.8776654623548256, 'andrewminion-luminfire': 0.6788377749102548, 'amcsi': 0.7306614311714288, 'DavidLemayian': 0.9999999999999997, 'faliure': 0.9999999999999997, 'djh101': 0.9999999999999997, 'spyric': 0.5525415449763178, 'eric-famiglietti': 0.5722316018641664, 'felixdorn': 0.5859091259301971, 'gpressutto5': 0.7218305920897756, 'cyberhicham': 0.9666320794692136, 'imanghafoori1': 0.0, 'clarkewing': 0.9529542418975532, 'vantoozz': 0.9999999999999997, 'idhamperdameian': 0.8396635392618345, 'JacobHonore': 0.9068895985322254, 'JakeConnors376W': 0.9999999999999997, 'spib': 1.0, 'u01jmg3': 0.0, 'joecwallace': 0.0, 'jspekken': 0.9529542418975532, 'alasdairnicol': 0.9999999999999997, 'zsiciarz': 0.0, 'coldmind': 0.8588630387144667, 'Bouke': 0.9999999999999997, 'marfire': 0.9999999999999997, 'wrwrwr': 1.0, 'charettes': 0.0, 'yoongkang': 0.9529542418975532, 'intgr': 0.8118175937671408, 'minusf': 0.9999999999999997, 'vlt': 0.9999999999999997, 'suligap': 0.9999999999999997, 'xi': 1.0, 'mgrouchy': 0.0, 'matthijskooijman': 0.0, 'nasirhjafri': 0.8006947447483004, 'gitaarik': 0.9999999999999997, 'vinayinvicible': 0.9999999999999997, 'ziima': 0.9999999999999997, 'fdemmer': 0.0, 'aruseni': 0.9068895985322254, 'dhepper': 0.952709106721867, 'Flimm': 0.8311323095944627, 'niconoe': 0.0, 'davidszotten': 0.9615138345161004, 'thibaudcolas': 0.0, 'nip3o': 0.0, 'tomchristie': 0.0, 'dominicrodger': 0.9999999999999997, 'jasonamyers': 1.0, 'knaperek': 0.9355548574311849, 'jab': 0.0, 'adamalton': 0.0, 'gavinwahl': 0.0, 'MatthewWilkes': 0.7705435960434591, 'timmartin': 0.9999999999999997, 'cansarigol': 0.0, 'bxm156': 0.9999999999999997, 'christophehenry': 0.7453690021916679, 'davidjb': 0.819405934404134, 'monoidal': 0.9999999999999997, 'pwmarcz': 0.0, 'exonian': 0.9999999999999997, 'nealtodd': 0.9999999999999997, 'piotrjakimiak': 0.9999999999999997, 'rohithpr': 1.0, 'csu': 0.0, 'chinmoy12c': 0.9999999999999997, 'vanschelven': 0.9999999999999997, 'codingjoe': 0.0, 'bpeschier': 0.9999999999999997, 'bmispelon': 0.0, 'benjyw': 0.8396635392618345, 'chicheng': 0.9529542418975532, 'florisdenhengst': 0.9999999999999997, 'evildmp': 0.0, 'jbzdak': 0.7538233824698396, 'jcushman': 0.9999999999999997, 'JanBednarik': 0.9999999999999997, 'jszoja': 0.9999999999999997, 'dekkers': 0.9999999999999997, 'joeribekker': 0.9999999999999997, 'jmichalicek': 0.9059085881135015, 'kevinmarsh': 1.0, 'eukreign': 0.9059085881135015, 'mfogel': 1.0, 'mbox': 0.9999999999999997, 'mbertheau': 0.9999999999999997, 'lovmat': 0.8118175937671408, 'Winnetou': 0.8396635392618345, 'baijum': 0.8906829736400312, 'jfinkels': 0.9999999999999997, 'njl': 0.9999999999999997, 'RaHus': 0.9529542418975532, 'cerickson': 0.9059085881135015, 'davebarkerxyz': 0.9999999999999997, 'HenryKobin': 0.9999999999999997, 'tbm': 0.9999999999999997, 'Ivoz': 0.9454369703888994, 'prachikhadke': 0.9191362745468151, 'ryanbackman': 0.9999999999999997, 'jphilipsen05': 0.0, 'skybert': 0.9059085881135015, 'agentultra': 0.9454369703888994, 'cgrinds': 0.9999999999999997, 'ekoka': 0.9529542418975535, 'lvh': 0.0, 'iurisilvio': 0.0, 'dougthor42': 0.9999999999999997, 'edbrannin': 0.7835755141967833, 'alysbrooks': 0.9999999999999997, 'adamobeng': 0.8460556162665354, 'alexpearce': 0.9529542418975535, 'shamrin': 0.9999999999999993, 'tolmasky': 0.0, 'Jamim': 0.9576785921157088, 'bartbroere': 0.9529542418975532, 'bsandrow': 0.8998963166297931, 'Thalmann': 0.9999999999999997, 'christophercurrie': 0.9059085881135015, 'mirskiy': 0.9999999999999997, 'brannerchinese': 0.9999999999999997, 'barracks510': 0.9999999999999997, 'dmizelle': 0.9191362745468151, 'ebonnecab': 0.9529542418975532, 'Eido95': 0.9999999999999997, 'etothemanders': 0.9529542418975535, 'merjadok': 0.8665284743378042, 'GCorbel': 0.9999999999999997, 'seedofjoy': 0.8665284743378042, 'ImgBotApp': 0.8418373343944581, 'fidlej': 0.7647722533382876, 'JamesTFarrington': 0.9999999999999993, 'aliafshar': 0.0, 'danielroseman': 0.0, 'johnzeringue': 0.9999999999999997, 'sonnyp': 0.0, 'sersorrel': 0.9999999999999997, 'meshy': 0.0, 'jsoref': 0.845356241926457, 'julen': 0.9999999999999997, 'f3ndot': 0.9337545336081952, 'Xion': 0.9576785921157088, 'dag': 0.0, 'Larivact': 0.9999999999999997, 'hiowenluke': 0.9999999999999997, 'troygoode': 0.0, 'crandmck': 0.9529542418975532, 'felixbuenemann': 0.8285738375644878, 'kkalavantavanich': 0.8776654623548252, 'rodion-arr': 0.9068895985322258, 'Hanul': 0.9191362745468151, 'patelatharva': 0.7453690021916679, 'deniztetik': 0.8020681655101649, 'esco': 0.9999999999999997, 'drussilla': 0.9191362745468151, 'ifraixedes': 0.9999999999999997, 'jaimeagudo': 0.8819949524265019, 'ksato9700': 0.8349878375598644, 'kunalspathak': 0.9529542418975532, 'lennym': 0.9127845942928958, 'baslr': 0.9999999999999997, 'printercu': 0.7696720121221468, 'tunniclm': 0.847739351672472, 'shesek': 0.8541720129143562, 'sethkrasnianski': 0.9059085881135015, 'siong1987': 0.8961585325450423, 'CommanderRoot': 0.847739351672472, 'Laboratory': 0.9191362745468151, 'ykumar6': 0.9999999999999997, 'Albertobar94': 0.9529542418975532, 'ewoudj': 0.9999999999999997, 'jade-bot': 0.8781958404949004, 'lihanli': 0.9999999999999997, 'zhangky01': 0.9999999999999997, 'skipkayhil': 0.9337545336081952, 'tarmo': 0.9999999999999997, 'dixpac': 0.9201236539658983, 'igoradamenko': 0.0, 'sharang-d': 1.0, 'vishaltelangre': 0.0, 'waynn': 0.8964001552576981, 'giraffate': 0.9394484165597582, 'andersk': 0.0, 'sambostock': 0.8795186465842144, 'mjtko': 0.9337545336081952, 'cpruitt': 0.8618079524406219, 'rafmagana': 0.895470328811027, 'subbarao': 0.8725407719177665, 'cllns': 0.9068895985322254, 'brchristian': 0.7941757865675996, 'jeroenvandijk': 0.8910073585183762, 'dlee': 0.9337545336081952, 'rajinder-yadav': 0.7453690021916679, 'willbryant': 0.8865040815410419, 'ashiksp': 0.9068895985322258, 'nvasilevski': 0.8798090183956793, 'orhantoy': 0.9337545336081952, 'ccarruitero': 0.9337545336081952, 'DefV': 0.9285316225535942, 'lugray': 0.8961585325450423, 'nixterrimus': 0.8020681655101649, 'malclocke': 0.8278244554421702, 'swistak': 0.9337545336081952, 'nkjackzhang': 0.9999999999999997, 'sslavic': 0.9529542418975532, 'Buzzardo': 0.8922515633173783, 'kdvolder': 0.8160510383356682, 'jvalkeal': 0.0, 'quaff': 0.9529542418975532, 'candrews': 0.9529542418975535, 'lukas-krecan': 0.9999999999999997, 'kamilszymanski': 0.9059085881135015, 'spring-operator': 0.8688771859957227, 'drumonii': 0.9191362745468151, 'stonio': 0.9999999999999997, 'wyhasany': 0.9059085881135015, 'Xaerxess': 0.9999999999999997, 'mhawrylczak': 0.9999999999999997, 'runningcode': 0.9999999999999997, 'missingdays': 0.9999999999999997, 'ascopes': 0.9999999999999997, 'marschall': 0.0, 'acogoluegnes': 0.829009502764439, 'grimreaper': 0.9191362745468151, 'eltociear': 0.8908739871316663, 'JanStureNielsen': 0.8196756558510632, 'MarioAriasC': 0.8961585325450423, 'matsev': 0.8961585325450423, 'OLPMO': 0.9999999999999997, 'uthark': 0.7941757865675999, 'qxo': 0.9529542418975532, 'FlorianKirmaier': 0.9999999999999997, 'seratch': 0.0, 'lxbzmy': 0.9529542418975532, 'mureinik': 0.9999999999999997, 'neanton': 0.6573827088253439, 'boahc077': 0.847739351672472, 'bwestrich': 0.9529542418975535, 'xyloman': 0.8865040815410419, 'BryceYangS': 0.9999999999999997, 'benelog': 0.0, 'carterkozak': 0.9999999999999997, 'Chexpir': 0.9529542418975532, 'deki': 0.8349878375598644, 'eas5': 0.9666320794692136, 'epabst': 0.8075403948382385, 'facewindu': 0.9529542418975532, 'gurpiarbassi': 0.7762143161712172, 'honnix': 0.6044378836400618, 'KENNYSOFT': 0.9529542418975532, 'ikempf': 0.9529542418975532, 'jeffnelson': 0.8694727603508254, 'joshiste': 0.9191362745468151, 'pivotaljohn': 1.0, 'jtigger': 0.0, 'zhoulifu': 0.8349878375598644, 'mmustaquim': 0.9999999999999997, 'jambonrose': 0.0, 'renovate-bot': 0.8572601915840814, 'anchan828': 0.9999999999999997, 'wbhob': 0.9999999999999997, 'tarunbatra': 0.0, 'Upperfoot': 0.6086257157449537, 'hiepthai': 0.9191362745468151, 'kaufmo': 0.9999999999999997, 'evolkmann': 0.6618963468366077, 'squareloop1': 0.9999999999999997, 'mwanago': 0.0, 'vinnymac': 0.7835755141967833, 'regevbr': 0.9999999999999997, 'soudai-s': 0.8588630387144667, 'mimopo': 0.9999999999999997, 'adamgajzlerowicz': 0.8394589503497097, 'zarv1k': 0.8776654623548252, 'diesal11': 0.8349878375598644, 'GrayStrider': 0.9529542418975535, 'joyarzun': 0.9999999999999997, 'katoba86': 0.9059085881135015, 'KonradLinkowski': 0.9059085881135015, 'Larinel': 1.0, 'zeyneloz': 0.0, 'zub0r': 0.9529542418975532, 'TheNoim': 0.9127845942928958, 'jwthanh': 0.9529542418975532, 'adworacz': 0.9999999999999997, 'rca': 0.0, 'woobottle': 0.8020681655101649, 'gchpaco': 0.9059085881135015, 'jirikrepl': 1.0, 'juho': 0.9332641850097045, 'mateusz-golebiowski': 0.9999999999999997, 'karayu': 0.9999999999999997, 'jb-1980': 0.8020681655101649, 'Ed-von-Schleck': 0.8118175937671408, 'ogourment': 0.8757802719231783, 'ritwik1233': 0.7926181988329812, 'trudeaua21': 0.9666320794692136, 'alDuncanson': 0.0, 'bwhitty': 0.9332641850097045, 'nytamin': 0.9191362745468151, 'waitingcheung': 0.9666320794692136, 'lieuwex': 0.7057020826747417, 'ohsofoxy273': 0.7000870982647223, 'koszta': 0.9191362745468151, 'szchenghuang': 0.7453690021916679, 'drewmoore': 0.8331606581420687, 'gerwinbrunner': 0.853251548827538, 'aspin': 0.9059085881135015, 'LewisW': 0.9666320794692136, 'servel333': 0.9529542418975532, 'physiocoder': 0.8588630387144667, 'tvogels': 0.9191362745468151, 'warrenseine': 0.9666320794692136, 'ayal': 0.8118175937671408, 'qbolec': 0.9091480881189135, 'krazyeom': 0.6514828053259629, 'n0ne': 0.7000870982647219, 'recrsn': 0.8834921649747183, 'isabellatea': 0.9529542418975532, 'jozefcipa': 0.8776654623548252, 'NickBolles': 0.8006435635899898, 'donmasakayan': 0.8075403948382385, 'smoothdvd': 0.9337545336081952, 'meganoob1337': 0.5573930668075214, 'kuongknight': 0.9999999999999997, 'crunchtime-ali': 0.0, 'meck93': 0.9999999999999997, 'websocket98765': 0.9529542418975532, 'jacargentina': 0.9191362745468151, 'meherchandan': 0.8020681655101649, 'jorrit': 0.7542586875957703, 'tudorilisoi': 0.8598442581033722, 'gfpacheco': 0.9337545336081952, 'johanbaath': 0.8349878375598644, 'LordSimal': 0.9999999999999997, 'jfrux': 0.7858652090012395, 'admosity': 0.6848943522619473, 'guyathomas': 0.9529542418975532, 'timgates42': 0.8245603155598238, 'elky': 0.0, 'funkybob': 0.0, 'spookylukey': 0.0, 'fengsp': 0.0, 'ptone': 0.0, 'has2k1': 0.0, 'senko': 0.0, 'matthiask': 0.0, 'adamrhunter': 0.9999999999999997, 'derskeal': 0.9529542418975532, 'ductnn': 0.9425159304109022, 'kamalbennani': 0.0, 'hdeadman': 0.9999999999999997, 'ksokol': 0.0, 'msimmer': 0.8598442581033722, 'ralphsomeday': 0.9999999999999997, 'rmaroun': 0.0, 'mmmmmrob': 0.8865040815410419, 'slatham': 0.9529542418975532, 'TPXP': 0.8118175937671408, 'veitbjarsch': 1.0, 'tonyhallett': 0.0, 'abhirathore2006': 0.8020681655101649, 'Webbist-dev': 0.9529542418975532, 'mingmingwon': 0.9999999999999997, 'iamchenxin': 0.8912158280761137, 'Alexsey': 0.9999999999999997, 'SupaJoon': 0.9191362745468151, 'bartolkaruza': 0.7490105538482339, 'gthb': 0.9592002877751834, 'JeffRMoore': 0.7455729629894358, 'm-a-r-c-e-l-i-n-o': 0.9999999999999997, 'ilkkao': 0.0, 'mgjm': 0.9999999999999997, 'Connormiha': 0.6276128518985495, 'pandapaul': 0.9191362745468151, 'PaulAnnekov': 0.9999999999999997, 'peey': 0.8313029745818603, 'reod': 0.7066058461328222, 'twitchard': 0.9999999999999997, 'jeromew': 0.4193601085859828, 'mako-taco': 0.918870519629724, 'nicoder': 0.6503839875946513, 'sgpinkus': 1.0, 'lxShaDoWxl': 0.6617451203453266, 'livelyRyan': 0.7835755141967833, 'pjoe': 0.9999999999999997, 'saturn4er': 0.7455729629894358, 'tnextday': 0.9999999999999997, 'Hepri': 0.9666320794692136, 'peeped': 0.9529542418975532, 'albertma': 0.9337545336081952, 'GuyCheung': 0.9999999999999997, 'Codonaut': 0.9529542418975532, 'cr7pt0gr4ph7': 0.9999999999999997, 'guanly': 0.7079782173521233, 'odiel': 0.9529542418975532, 'qAison': 0.8090295992024781, 'supiyun': 0.9529542418975532, 'zhl11b': 0.9059085881135015, 'lowitea': 0.9059085881135015, 'dvwallin': 0.9999999999999997, 'HSoshiant': 0.9191362745468151, 'HaraldNordgren': 0.9666320794692136, 'hilyjiang': 0.9999999999999997, 'smacker': 0.8050280875186316, 'Radar8': 0.9529542418975532, 'WUMUXIAN': 0.9529542418975532, 'alexsunxl': 0.9059085881135015, 'awengo': 0.6860120257868929, 'CodeJuan': 0.9101091358741018, 'godcong': 0.9429866426063561, 'yinggaozhen': 0.0, 'keminar': 0.9999999999999997, 'ryanchapman': 0.0, 'moqiancong': 0.9999999999999997, 'sandysong': 0.9999999999999997, 'sangheee': 0.9999999999999997, 'satng': 0.8118175937671408, 'HypeMC': 0.9999999999999997, 'alamirault': 0.8961585325450423, 'thewilkybarkid': 0.7941485182494881, 'rmikalkenas': 0.9260647871240345, 'c960657': 0.9046059463873781, 'DavidPrevot': 0.720768374792188, 'JhonnyL': 0.9999999999999997, 'clemens-tolboom': 0.9999999999999997, 'simonberger': 0.9529542418975528, 'lazyhammer': 0.9999999999999997, 'mpajunen': 0.9529542418975532, 'e-moe': 0.9666320794692136, 'Jean-Beru': 0.8401542012155239, 'antograssiot': 0.9999999999999997, 'karser': 1.0, 'byrnedo': 0.0, 'mcfedr': 0.7499230185401758, 'mantis': 0.7414788985774071, 'Stadly': 0.9999999999999997, 'rubenrua': 0.8194829249387693, 'W0rma': 0.9666320794692136, 'Chi-teck': 0.9425159304109022, 'dpb587': 0.8349878375598644, 'upyx': 0.6573827088253439, 'andremaha': 0.9191362745468151, 'ben29': 0.9191362745468151, 'danut007ro': 0.7956423153893301, 'IndraGunawan': 0.8197688934618614, 'jeremylivingston': 0.8072455502759178, 'codedmonkey': 0.9191362745468151, 'corebreaker': 0.9999999999999997, 'ZaniaDeveloper': 0.9999999999999997, 'akiraho': 0.9999999999999997, 'WingGao': 0.929308818073454, 'trungdlp-wolffun': 0.9999999999999997, 'mcsakoff': 0.9999999999999997, 'Kimbsen': 0.9999999999999997, 'tkhkokd': 0.9666320794692136, 'BenLampson': 0.9999999999999997, 'fedir': 0.9999999999999997, 'Kirguir': 0.9999999999999997, 'nanikjava': 0.9999999999999997, 'mainnika': 0.9999999999999997, 'Schatzman': 0.9999999999999997, 'FishJoey': 0.9999999999999997, 'blainepwnz': 0.9999999999999997, 'fduxiao': 0.9999999999999997, 'demoManito': 0.9999999999999997, 'liweijie0812': 0.9999999999999997, 'merrydii': 0.9999999999999997, 'roamboy': 0.9999999999999997, 'rocinantex': 0.9999999999999997, 'sunshinekitty': 0.9999999999999997, '1819997197': 0.9999999999999997, 'tianhe1986': 0.5464251519090475, 'DiederikLascaris': 0.7997928680509203, 'foxlance': 0.8906829736400312, 'theshem': 0.0, 'takayuky': 0.9191362745468151, 'leandronf': 0.9999999999999997, 'gabbyprecious': 0.0, 'Chanthoeun': 0.842726719802962, 'bstrahija': 0.0, 'chonthu': 0.0, 'wmh': 0.7522977159518981, 'rajatsharma94': 0.9999999999999997, 'medhavini': 0.0, 'natesilva': 0.7837108774445698, 'j0inty': 0.8588630387144667, 'svennd': 0.8588630387144667, 'bjjay': 0.8593292330546639, 'alinradut': 0.81235242669272, 'gintsmurans': 0.5635534160303114, 'ster': 0.6627644706009674, 'bradenkeith': 0.0, 'Syafiqq': 0.8588630387144667, 'goreilly': 0.862790873102002, 'tschechniker': 0.9999999999999997, 'lordmauve': 0.0, 'adrianorsouza': 0.8396635392618345, 'CroNiX': 0.8720908295994894, 'indrakaw': 0.6793287508206566, 'kasimtan': 0.6793287508206566, 'mZer0ne': 0.8588630387144667, 'devnetkc': 0.9059085881135015, 'samxli': 0.8396635392618345, 'hArpanet': 0.9529542418975532, 'intekhabrizvi': 0.9999999999999997, 'irfanevrens': 0.6704658068972935, 'SterlingVix': 0.8867089842091602, 'ChadBH': 0.9999999999999997, 'bruno-garcia': 0.0, 'cmbuckley': 0.8306204358826844, 'chrisege': 0.9195863735176417, 'groovenectar': 0.8908739871316663, 'k3mist': 0.8361745103046416, 'DeanWunder': 0.9059085881135015, 'dotancohen': 0.9332641850097045, 'et-nik': 0.8665284743378042, 'ha17': 0.9529542418975532, 'jleft': 0.9529542418975532, 'sbomer': 0.9999999999999997, 'mmitche': 0.0, 'shaggygi': 0.8961585325450423, 'nohwnd': 0.9425159304109022, 'lofcz': 1.0, 'sunandabalu': 0.7657538910684947, 'AndyMDoyle': 0.7657538910684947, 'atifaziz': 0.8734207051922986, 'AustinWise': 0.9529542418975532, 'Logerfo': 0.9529542418975532, 'flcdrg': 0.839172981826618, 'adelton': 0.9999999999999997, 'kevinjpetersen': 0.8152963748703725, 'mconnew': 0.9068895985322258, 'MichaelSL': 0.9529542418975532, 'Varorbc': 0.9529542418975532, 'n9': 0.9457638346751853, 'dlech': 0.0, 'lukasz-pyrzyk': 0.9529542418975535}\n"
     ]
    }
   ],
   "source": [
    "#create dictionary with pc attached\n",
    "nodes = list(G.nodes())\n",
    "\n",
    "pc_record = {}\n",
    "\n",
    "for i in range(len(nodes)):\n",
    "    pc_record[nodes[i]] = Pc.item(i)\n",
    "\n",
    "print(pc_record)"
   ]
  },
  {
   "cell_type": "code",
   "execution_count": 116,
   "id": "2b14beef",
   "metadata": {},
   "outputs": [],
   "source": [
    "#write PC of each node into excel nodeslist\n",
    "OUTPUT_NODES_FILE = './nodes_communities_PC2.csv'\n",
    "\n",
    "counter = 0\n",
    "for contributor in pc_record:\n",
    "\n",
    "    record1[contributor][4] = Pc.item(counter)\n",
    "    #print(record[contributor][3])\n",
    "    counter +=1\n",
    "#print(record1)\n",
    "\n",
    "newNodesFile = open(OUTPUT_NODES_FILE, 'w+')\n",
    "\n",
    "for user in record1:\n",
    "    newNodesFile.write(f\"{user}, {record1[user][0]}, {record1[user][1]}, {record1[user][2]}, {record1[user][3]}, {record1[user][4]}\\n\")\n",
    "newNodesFile.close()"
   ]
  }
 ],
 "metadata": {
  "kernelspec": {
   "display_name": "Python 3 (ipykernel)",
   "language": "python",
   "name": "python3"
  },
  "language_info": {
   "codemirror_mode": {
    "name": "ipython",
    "version": 3
   },
   "file_extension": ".py",
   "mimetype": "text/x-python",
   "name": "python",
   "nbconvert_exporter": "python",
   "pygments_lexer": "ipython3",
   "version": "3.9.12"
  }
 },
 "nbformat": 4,
 "nbformat_minor": 5
}
