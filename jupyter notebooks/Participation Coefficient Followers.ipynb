{
 "cells": [
  {
   "cell_type": "code",
   "execution_count": 1,
   "id": "703ec586",
   "metadata": {},
   "outputs": [],
   "source": [
    "# Importing the required libraries\n",
    "\n",
    "#import community as community_louvain\n",
    "\n",
    "import numpy as np\n",
    "import networkx as nx\n",
    "import scipy as sp\n",
    "\n",
    "import networkx.algorithms.community as nx_comm\n",
    "%matplotlib inline\n"
   ]
  },
  {
   "cell_type": "code",
   "execution_count": 38,
   "id": "d3ac33a6",
   "metadata": {},
   "outputs": [
    {
     "data": {
      "text/plain": [
       "{'divide': 'warn', 'over': 'warn', 'under': 'ignore', 'invalid': 'warn'}"
      ]
     },
     "execution_count": 38,
     "metadata": {},
     "output_type": "execute_result"
    }
   ],
   "source": [
    "np.seterr(invalid='ignore')"
   ]
  },
  {
   "cell_type": "code",
   "execution_count": 218,
   "id": "070c4fef",
   "metadata": {},
   "outputs": [],
   "source": [
    "NODES_FILE = './nodes_repo_community.csv'\n",
    "NODES_FILE1 = './nodes_repo_Com_FFForks.csv'"
   ]
  },
  {
   "cell_type": "code",
   "execution_count": 4,
   "id": "5128f3fc",
   "metadata": {},
   "outputs": [],
   "source": [
    "G = nx.read_edgelist('./edges.csv',\n",
    "                     create_using=nx.DiGraph(), delimiter = ', ')\n",
    "\n"
   ]
  },
  {
   "cell_type": "code",
   "execution_count": 219,
   "id": "a6a6ca5b",
   "metadata": {},
   "outputs": [],
   "source": [
    "#add node attribute community with corresponding community label #\n",
    "nodesFile = open(NODES_FILE, 'r')\n",
    "record = {}\n",
    "# skip headers\n",
    "#nodesFile.readline()\n",
    "\n",
    "# store nodes in record\n",
    "for line in nodesFile:\n",
    "    toRecord = line.split(\", \")\n",
    "    #print(toRecord)\n",
    "    if (toRecord[2] != '-1\\n'):\n",
    "        record[toRecord[0]] = int(toRecord[2].strip(\"\\n\"))\n",
    "nx.set_node_attributes(G,record,\"communities\")   \n",
    "\n",
    "#print(record)\n",
    "#print(G)\n",
    "nodesFile.close()"
   ]
  },
  {
   "cell_type": "code",
   "execution_count": 7,
   "id": "31cd9480",
   "metadata": {
    "scrolled": true
   },
   "outputs": [
    {
     "name": "stdout",
     "output_type": "stream",
     "text": [
      "[[0 1 1 ... 0 0 0]\n",
      " [0 0 0 ... 0 0 0]\n",
      " [0 0 0 ... 0 0 0]\n",
      " ...\n",
      " [0 0 0 ... 0 0 0]\n",
      " [0 0 0 ... 0 0 0]\n",
      " [0 0 0 ... 0 0 0]]\n",
      "<class 'numpy.matrix'>\n",
      "(3010, 3010)\n"
     ]
    }
   ],
   "source": [
    "#create adj matrix\n",
    "SP_adj_matrix = nx.adjacency_matrix(G)\n",
    "NP_adj_matrix = SP_adj_matrix.todense()\n",
    "print(NP_adj_matrix)\n",
    "print(type(NP_adj_matrix))\n",
    "print(NP_adj_matrix.shape)"
   ]
  },
  {
   "cell_type": "code",
   "execution_count": 59,
   "id": "916d4886",
   "metadata": {
    "scrolled": true
   },
   "outputs": [
    {
     "name": "stdout",
     "output_type": "stream",
     "text": [
      "3010\n"
     ]
    }
   ],
   "source": [
    "#create list that is the vector for community affiliation\n",
    "community_affiliation = []\n",
    "for i in range(len(NP_adj_matrix)):\n",
    "    community_affiliation.append(list(G.nodes(\"communities\"))[i][1])"
   ]
  },
  {
   "cell_type": "markdown",
   "id": "d5e1a027",
   "metadata": {},
   "source": [
    "FUNCTION BELOW IS MODIFIED BUT TAKEN FROM: https://github.com/CarloNicolini/pyconnectivity/blob/master/bct.py"
   ]
  },
  {
   "cell_type": "code",
   "execution_count": 123,
   "id": "1c448af4",
   "metadata": {},
   "outputs": [],
   "source": [
    "def participation_coef(W, ci):\n",
    "    '''\n",
    "    Participation coefficient is a measure of diversity of intermodular\n",
    "    connections of individual nodes.\n",
    "    Inputs:     W,      binary/weighted, directed/undirected connection matrix\n",
    "               Ci,         community affiliation vector\n",
    "    Output:     P,      participation coefficient\n",
    "    Note: The output for directed graphs is the \"out-neighbor\"\n",
    "         participation coefficient.\n",
    "    '''\n",
    "  \n",
    "\n",
    "    _, ci = np.unique(ci, return_inverse=True)\n",
    "    ci += 1\n",
    "   \n",
    "    n = len(W)  # number of vertices\n",
    "    Ko = np.sum(W, axis=1)  # (out) degree\n",
    "    \n",
    "    Gc = np.dot((W != 0), np.diag(ci))  # neighbor community affiliation\n",
    "    \n",
    "    Kc2 = np.zeros((n,1))  # community-specific neighbors\n",
    "   \n",
    "    for i in range(int(np.max(ci))):\n",
    "        Kc2 += np.sqrt(np.sum(W * (Gc == i), axis=1)) #add more sqrt if necessary (if values still negative)\n",
    "        checker,_ = np.where(Kc2<0) #check to see if any values of Kc overflow and become negative\n",
    "        if(len(checker)>0):\n",
    "            print(\"OVERFLOW. TRY AGAIN WITH MORE SQRT\")\n",
    "            break\n",
    "        if(i % 5 == 0 or i==(int(np.max(ci)))-1):\n",
    "            print(str(i) + \" out of \" + str(np.max(ci)-1) + \" communities complete\")\n",
    "        \n",
    "    non_normal = Kc2 / np.sqrt(Ko) \n",
    "    non_normal = np.nan_to_num(non_normal,nan=np.nanmax(non_normal)) #change any nan values to max value in vector\n",
    "    normalized = (non_normal - non_normal.min()) / (non_normal.max() - non_normal.min()) #normalized vector\n",
    "    P = np.ones((n,1)) - normalized\n",
    "    \n",
    "    #P=0 if for nodes with no (out) neighbors\n",
    "    P[np.where(np.logical_not(Ko))] = 0\n",
    "\n",
    "    return P"
   ]
  },
  {
   "cell_type": "code",
   "execution_count": 124,
   "id": "543b0f2b",
   "metadata": {
    "scrolled": false
   },
   "outputs": [
    {
     "name": "stdout",
     "output_type": "stream",
     "text": [
      "0 out of 143 communities complete\n",
      "5 out of 143 communities complete\n",
      "10 out of 143 communities complete\n",
      "15 out of 143 communities complete\n",
      "20 out of 143 communities complete\n",
      "25 out of 143 communities complete\n",
      "30 out of 143 communities complete\n",
      "35 out of 143 communities complete\n",
      "40 out of 143 communities complete\n",
      "45 out of 143 communities complete\n",
      "50 out of 143 communities complete\n",
      "55 out of 143 communities complete\n",
      "60 out of 143 communities complete\n",
      "65 out of 143 communities complete\n",
      "70 out of 143 communities complete\n",
      "75 out of 143 communities complete\n",
      "80 out of 143 communities complete\n",
      "85 out of 143 communities complete\n",
      "90 out of 143 communities complete\n",
      "95 out of 143 communities complete\n",
      "100 out of 143 communities complete\n",
      "105 out of 143 communities complete\n",
      "110 out of 143 communities complete\n",
      "115 out of 143 communities complete\n",
      "120 out of 143 communities complete\n",
      "125 out of 143 communities complete\n",
      "130 out of 143 communities complete\n",
      "135 out of 143 communities complete\n",
      "140 out of 143 communities complete\n",
      "143 out of 143 communities complete\n"
     ]
    }
   ],
   "source": [
    "Pc = participation_coef(NP_adj_matrix,community_affiliation)"
   ]
  },
  {
   "cell_type": "code",
   "execution_count": 125,
   "id": "23c58adc",
   "metadata": {},
   "outputs": [
    {
     "name": "stdout",
     "output_type": "stream",
     "text": [
      "[[0.86303287]\n",
      " [0.76533999]\n",
      " [0.        ]\n",
      " ...\n",
      " [0.        ]\n",
      " [0.96924893]\n",
      " [0.96563587]]\n"
     ]
    }
   ],
   "source": [
    "print(Pc)"
   ]
  },
  {
   "cell_type": "code",
   "execution_count": 248,
   "id": "007b7fb8",
   "metadata": {},
   "outputs": [],
   "source": [
    "#write PC to new file\n",
    "nodesFile1 = open(NODES_FILE1, 'r')\n",
    "record1 = {}\n",
    "\n",
    "\n",
    "# store nodes in record\n",
    "for line in nodesFile1:\n",
    "    toRecord1 = line.split(\", \")\n",
    "    user1 = toRecord1[0].strip()\n",
    "    repo1 = toRecord1[1].strip()\n",
    "    follower_community1 = toRecord1[2].strip()\n",
    "    fork_community1 = toRecord1[3].strip()\n",
    "    follower_pc1 = -1\n",
    "    \n",
    "    record1[toRecord1[0]] = [repo1,follower_community1,fork_community1,follower_pc1]\n",
    "\n",
    "nodesFile1.close()\n"
   ]
  },
  {
   "cell_type": "code",
   "execution_count": 249,
   "id": "2e763995",
   "metadata": {},
   "outputs": [],
   "source": [
    "# make dict with user as key and value as PC\n",
    "nodes = list(G.nodes())\n",
    "\n",
    "pc_record = {}\n",
    "\n",
    "for i in range(len(nodes)):\n",
    "    \n",
    "    pc_record[nodes[i]] = Pc.item(i)\n"
   ]
  },
  {
   "cell_type": "code",
   "execution_count": 246,
   "id": "69657a50",
   "metadata": {},
   "outputs": [],
   "source": [
    "#write PC of each node into excel nodeslist\n",
    "OUTPUT_NODES_FILE = './nodes_communities_PC1.csv'\n",
    "\n",
    "counter = 0\n",
    "for contributor in pc_record:\n",
    "\n",
    "    record1[contributor][3] = Pc.item(counter)\n",
    "    \n",
    "    counter +=1\n",
    "\n",
    "newNodesFile = open(OUTPUT_NODES_FILE, 'w+')\n",
    "\n",
    "for user in record1:\n",
    "    newNodesFile.write(f\"{user}, {record1[user][0]}, {record1[user][1]}, {record1[user][2]}, {record1[user][3]}\\n\")\n",
    "newNodesFile.close()"
   ]
  },
  {
   "cell_type": "code",
   "execution_count": 126,
   "id": "d38bd7f1",
   "metadata": {},
   "outputs": [
    {
     "name": "stdout",
     "output_type": "stream",
     "text": [
      "0.663927310367459\n"
     ]
    }
   ],
   "source": [
    "#find avg participation coefficient of the whole network\n",
    "avg_pc = np.mean(Pc)\n",
    "print(avg_pc)"
   ]
  },
  {
   "cell_type": "code",
   "execution_count": 189,
   "id": "085e7590",
   "metadata": {},
   "outputs": [
    {
     "name": "stdout",
     "output_type": "stream",
     "text": [
      "[246.38574499090467, 9.85519475238171, 1.8731266364113999, 3.9272409018429646, 1.659408745083423, 75.02914502906783, 1.8351960935158487, 1.029175288008681, 2.4178780485850826, 2.5977539853458653, 2.762433416152514, 0.8439389008668369, 6.688458227825932, 1.9073334133701012, 1.8731266364113999, 271.79443455217273, 1.9657931969009397, 1.0, 1.0, 216.99501131754653, 1.0, 299.59382293049214, 3.733270858072203, 2.717476339051221, 1.0, 3.7864615061969955, 126.83974088380528, 1.632470339888954, 1.0, 0.8907810492010726, 1.802653180898159, 1.8395495024820512, 1.0, 1.0, 1.8422417704975316, 4.565237828448277, 1.9657931969009397, 1.8348891366592688, 1.7650056136287267, 2.5970057920354206, 5.95641946429374, 5.844884696835315, 2.758324243847167, 2.0, 1.9315863938018794, 1.8952905583534856, 1.8435067689180262, 1.0, 1.8112300553600709, 2.6099200819642094, 2.6215991488668515, 1.9315863938018794, 1.9036174859314325, 286.26029506391774, 0.9173286984480348, 2.7785099217882716, 1.0, 1.9073334133701012, 5.16885645148224, 1.9657931969009397, 94.40761342650968, 1.0, 1.8389270837442013, 1.0, 0.8933489855817498, 1.8591421040029399, 1.9657931969009397, 1.0, 1.9315863938018794, 1.0, 3.65393887961648, 1.81482438787876, 37.25728702437804, 4.552351647544246, 1.748939629876144, 1.0, 1.8686238187042874, 1.0, 0.8858061145048906, 1.9657931969009397, 0.7633943215894025, 1.9315864460891132, 0.7520748855470092, 1.9315863938018794, 1.0, 0.9281852486429104, 0.7315988674208271, 12.558543966094271, 6.89018781250144, 2.9315863938018794, 0.7833624236970813, 1.9657931969009397, 1.0, 1.0, 0.9125448967818119, 1.0, 2.591999346329718, 0.717434300731786, 1.7108507907863444, 1.0, 1.0, 1.7459062583107094, 3.851124605929723, 2.735405980784876, 1.0, 0.9612609093604563, 3.7939489303527028, 1.9657931969009397, 1.8247258049997481, 1.9657931969009397, 1.768320247999098, 5.900319284468859, 1.927555605620074, 0.9720231141690532, 1.9315863938018794, 1.9315863938018794, 1.9073334133701012, 1.0, 1.0, 1.933939025279348, 1.8272726183736727, 1.0, 2.3289976452021293, 1.0, 1.7221805310624536, 2.4997847947749343, 1.0, 0.8585121374428413, 1.9315863938018794, 1.897379642990053, 1.0, 0.8444693577297309, 1.0, 1.0, 69.09251091178618, 1.8977758499516513, 1.9782925724323852, 2.9073333610828676, 1.0, 1.0, 0.9415401903222866, 0.8793645578521107, 1.0, 1.0]\n",
      "[351, 12, 2, 4, 2, 95, 2, 3, 4, 6, 4, 2, 8, 2, 2, 400, 2, 2, 2, 347, 2, 442, 4, 4, 2, 4, 238, 3, 2, 2, 2, 2, 2, 2, 2, 5, 2, 2, 3, 4, 8, 7, 3, 3, 2, 2, 3, 2, 3, 4, 3, 2, 3, 408, 2, 4, 2, 2, 11, 2, 138, 2, 2, 2, 2, 2, 2, 2, 2, 2, 5, 3, 47, 5, 2, 2, 2, 2, 2, 2, 4, 2, 2, 2, 2, 2, 2, 18, 10, 4, 4, 2, 2, 2, 2, 2, 4, 2, 2, 2, 2, 3, 6, 3, 2, 3, 4, 2, 2, 2, 2, 7, 3, 2, 2, 2, 2, 2, 3, 3, 3, 2, 3, 2, 10, 4, 2, 2, 2, 2, 2, 2, 2, 2, 133, 3, 4, 3, 2, 2, 2, 2, 2, 3]\n",
      "0.9828965984504698\n",
      "0.17221805310624536\n",
      "(array([ 16,  36,  59,  66,  79,  91, 107, 109], dtype=int64),)\n",
      "(array([124], dtype=int64),)\n"
     ]
    }
   ],
   "source": [
    "#find max and min average community participation coefficient\n",
    "#list size is amount of communities\n",
    "community_pc = [0] * int(np.max(community_affiliation)+1)\n",
    "#print(Pc)\n",
    "#print(Pc.item(0))\n",
    "#print(len(community_pc))\n",
    "#print(community_affiliation)\n",
    "#number of nodes in each community to calc average\n",
    "num_of_nodes_in_comm = [0] * int(np.max(community_affiliation)+1) #size of 144\n",
    "#print(len(NP_adj_matrix))\n",
    "#For each community find the average PC\n",
    "for i in range(int(np.max(community_affiliation))+1): \n",
    "    #for each node get their PC \n",
    "    for j in range(len(NP_adj_matrix)):\n",
    "        #if node is in community i \n",
    "        if(community_affiliation[j] == i):\n",
    "            #then add PC to community_pc\n",
    "            community_pc[i] += Pc.item(j)\n",
    "            #add 1 to index \n",
    "            num_of_nodes_in_comm[community_affiliation[j]] += 1      \n",
    "print(community_pc)\n",
    "print(num_of_nodes_in_comm)            \n",
    "avg_community_pc = [0] * int(np.max(community_affiliation)+1) #144\n",
    "\n",
    "#average out each element of avg_community_pc\n",
    "for i in range(len(avg_community_pc)):\n",
    "    #PC[i] / # of nodes in community igy\n",
    "    avg_community_pc[i] = community_pc[i]/num_of_nodes_in_comm[i]\n",
    "    \n",
    "\n",
    "#print(avg_community_pc)\n",
    "print(np.max(avg_community_pc))\n",
    "print(np.min(avg_community_pc))\n",
    "print(np.where(avg_community_pc ==np.max(avg_community_pc) ))\n",
    "print(np.where(avg_community_pc ==np.min(avg_community_pc) ))\n",
    "    "
   ]
  }
 ],
 "metadata": {
  "kernelspec": {
   "display_name": "Python 3 (ipykernel)",
   "language": "python",
   "name": "python3"
  },
  "language_info": {
   "codemirror_mode": {
    "name": "ipython",
    "version": 3
   },
   "file_extension": ".py",
   "mimetype": "text/x-python",
   "name": "python",
   "nbconvert_exporter": "python",
   "pygments_lexer": "ipython3",
   "version": "3.9.12"
  }
 },
 "nbformat": 4,
 "nbformat_minor": 5
}
