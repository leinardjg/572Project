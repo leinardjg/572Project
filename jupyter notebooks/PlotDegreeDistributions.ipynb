{
 "cells": [
  {
   "cell_type": "code",
   "execution_count": 7,
   "id": "appreciated-healing",
   "metadata": {},
   "outputs": [],
   "source": [
    "# Importing the required libraries\n",
    "\n",
    "import numpy as np\n",
    "import networkx as nx\n",
    "import matplotlib.pyplot as plt\n",
    "import matplotlib as mpl\n",
    "%matplotlib inline"
   ]
  },
  {
   "cell_type": "code",
   "execution_count": 8,
   "id": "sorted-pathology",
   "metadata": {},
   "outputs": [],
   "source": [
    "# change defaults to be less ugly\n",
    "mpl.rc('xtick', labelsize=14, color=\"#222222\") \n",
    "mpl.rc('ytick', labelsize=14, color=\"#222222\") \n",
    "mpl.rc('font', **{'family':'sans-serif','sans-serif':['Arial']})\n",
    "mpl.rc('font', size=16)\n",
    "mpl.rc('xtick.major', size=6, width=1)\n",
    "mpl.rc('xtick.minor', size=3, width=1)\n",
    "mpl.rc('ytick.major', size=6, width=1)\n",
    "mpl.rc('ytick.minor', size=3, width=1)\n",
    "mpl.rc('axes', linewidth=1, edgecolor=\"#222222\", labelcolor=\"#222222\")\n",
    "mpl.rc('text', usetex=False, color=\"#222222\")"
   ]
  },
  {
   "cell_type": "code",
   "execution_count": 9,
   "id": "taken-rouge",
   "metadata": {},
   "outputs": [],
   "source": [
    "# Function Defintions\n",
    "\n",
    "# Function to plot a degree distribution graph (P(k) vs k graph)\n",
    "def plot_indegree_dist(G):\n",
    "    \n",
    "    degrees = [G.in_degree(n) for n in G.nodes()]\n",
    "    \n",
    "    kmin = min(degrees)\n",
    "    #print(\"min in degree: \", kmin)\n",
    "    kmax = max(degrees)\n",
    "    #print(\"max in degree: \", kmax)\n",
    "    if kmin>0:\n",
    "        bin_edges = np.logspace(np.log10(kmin), np.log10(kmax)+1, num=50)\n",
    "    else:\n",
    "        bin_edges = np.logspace(0, np.log10(kmax)+1, num= 50)\n",
    "    density, _ = np.histogram(degrees, bins=bin_edges, density=True)\n",
    "\n",
    "    fig = plt.figure(figsize=(6,4))\n",
    "\n",
    "    log_be = np.log10(bin_edges)\n",
    "    x = 10**((log_be[1:] + log_be[:-1])/2)\n",
    "    plt.loglog(x, density, marker='o', linestyle='none')\n",
    "    plt.xlabel(r\"in degree $k$\", fontsize=16)\n",
    "    plt.ylabel(r\"$P(k)$\", fontsize=16)\n",
    "\n",
    "    ax = plt.gca()\n",
    "    ax.spines['right'].set_visible(False)\n",
    "    ax.spines['top'].set_visible(False)\n",
    "    ax.yaxis.set_ticks_position('left')\n",
    "    ax.xaxis.set_ticks_position('bottom')\n",
    "    "
   ]
  },
  {
   "cell_type": "code",
   "execution_count": 10,
   "id": "fifteen-utility",
   "metadata": {},
   "outputs": [],
   "source": [
    "# Function Defintions\n",
    "\n",
    "# Function to plot a degree distribution graph (P(k) vs k graph)\n",
    "def plot_outdegree_dist(G):\n",
    "    \n",
    "    degrees = [G.out_degree(n) for n in G.nodes()]\n",
    "    \n",
    "    kmin = min(degrees)\n",
    "    #print(\"min out degree: \", kmin)\n",
    "    kmax = max(degrees)\n",
    "    #print(\"max out degree: \", kmax)\n",
    "    if kmin>0:\n",
    "        bin_edges = np.logspace(np.log10(kmin), np.log10(kmax)+1, num=50)\n",
    "    else:\n",
    "        bin_edges = np.logspace(0, np.log10(kmax)+1, num=50)\n",
    "    density, _ = np.histogram(degrees, bins=bin_edges, density=True)\n",
    "\n",
    "    fig = plt.figure(figsize=(6,4))\n",
    "\n",
    "    log_be = np.log10(bin_edges)\n",
    "    x = 10**((log_be[1:] + log_be[:-1])/2)\n",
    "    plt.loglog(x, density, marker='o', linestyle='none')\n",
    "    plt.xlabel(r\"out degree $k$\", fontsize=16)\n",
    "    plt.ylabel(r\"$P(k)$\", fontsize=16)\n",
    "\n",
    "    ax = plt.gca()\n",
    "    ax.spines['right'].set_visible(False)\n",
    "    ax.spines['top'].set_visible(False)\n",
    "    ax.yaxis.set_ticks_position('left')\n",
    "    ax.xaxis.set_ticks_position('bottom')"
   ]
  },
  {
   "cell_type": "code",
   "execution_count": 11,
   "id": "improving-stevens",
   "metadata": {},
   "outputs": [],
   "source": [
    "# Function Defintions\n",
    "\n",
    "# Function to plot a degree distribution graph (P(k) vs k graph)\n",
    "def plot_degree_dist(G):\n",
    "    \n",
    "    degrees = [G.degree(n) for n in G.nodes()]\n",
    "\n",
    "    kmin = min(degrees)\n",
    "    #print(\"min out degree: \", kmin)\n",
    "    kmax = max(degrees)\n",
    "    #print(\"max out degree: \", kmax)\n",
    "   \n",
    "    if kmin>0:\n",
    "        bin_edges = np.logspace(np.log10(kmin), np.log10(kmax)+1, num=50)\n",
    "    else:\n",
    "        bin_edges = np.logspace(0, np.log10(kmax)+1, num=50)\n",
    "    density, _ = np.histogram(degrees, bins=bin_edges, density=True)\n",
    "\n",
    "    fig = plt.figure(figsize=(6,4))\n",
    "\n",
    "    log_be = np.log10(bin_edges)\n",
    "    x = 10**((log_be[1:] + log_be[:-1])/2)\n",
    "    plt.loglog(x, density, marker='o', linestyle='none')\n",
    "    plt.xlabel(r\"degree $k$\", fontsize=16)\n",
    "    plt.ylabel(r\"$P(k)$\", fontsize=16)\n",
    "\n",
    "    ax = plt.gca()\n",
    "    ax.spines['right'].set_visible(False)\n",
    "    ax.spines['top'].set_visible(False)\n",
    "    ax.yaxis.set_ticks_position('left')\n",
    "    ax.xaxis.set_ticks_position('bottom')"
   ]
  },
  {
   "cell_type": "code",
   "execution_count": 12,
   "id": "wrapped-focus",
   "metadata": {},
   "outputs": [],
   "source": [
    "def plotAll(G: nx.Graph):\n",
    "    indegrees = [G.in_degree(n) for n in G.nodes()]\n",
    "    outdegrees = [G.out_degree(n) for n in G.nodes()]\n",
    "    degrees = [G.degree(n) for n in G.nodes()]\n",
    "    \n",
    "    kmin = min(min(degrees), min(outdegrees), min(indegrees))\n",
    "    kmax = max(max(degrees), max(outdegrees), max(indegrees))\n",
    "    \n",
    "    if kmin>0:\n",
    "        bin_edges = np.logspace(np.log10(kmin), np.log10(kmax)+1, num=50)\n",
    "    else:\n",
    "        bin_edges = np.logspace(0, np.log10(kmax)+1, num=50)\n",
    "    degree, _ = np.histogram(degrees, bins=bin_edges, density=True)\n",
    "    indegree, _ = np.histogram(indegrees, bins=bin_edges, density=True)\n",
    "    outdegree, _ = np.histogram(outdegrees, bins=bin_edges, density=True)\n",
    "\n",
    "    fig = plt.figure(figsize=(6,4))\n",
    "\n",
    "    log_be = np.log10(bin_edges)\n",
    "    x = 10**((log_be[1:] + log_be[:-1])/2)\n",
    "    \n",
    "    plt.loglog(x, degree, marker='o', linestyle='none', color='g')\n",
    "    plt.loglog(x, indegree, marker='o', linestyle='none', color='r')\n",
    "    plt.loglog(x, outdegree, marker='o', linestyle='none', color='b')\n",
    "    \n",
    "    plt.xlabel(r\"degree $k$\", fontsize=16)\n",
    "    plt.ylabel(r\"$P(k)$\", fontsize=16)\n",
    "\n",
    "    ax = plt.gca()\n",
    "    ax.spines['right'].set_visible(False)\n",
    "    ax.spines['top'].set_visible(False)\n",
    "    ax.yaxis.set_ticks_position('left')\n",
    "    ax.xaxis.set_ticks_position('bottom')"
   ]
  },
  {
   "cell_type": "markdown",
   "id": "9cfd92e1",
   "metadata": {},
   "source": [
    "Followers network degree distribution:"
   ]
  },
  {
   "cell_type": "code",
   "execution_count": 15,
   "id": "b8c90555",
   "metadata": {},
   "outputs": [
    {
     "data": {
      "image/png": "[encoded data removed]",
      "text/plain": [
       "<Figure size 432x288 with 1 Axes>"
      ]
     },
     "metadata": {
      "needs_background": "light"
     },
     "output_type": "display_data"
    }
   ],
   "source": [
    "G = nx.read_edgelist('../networks/followers/edges.csv',\n",
    "                     create_using=nx.DiGraph(),delimiter = ', ')\n",
    "                     \n",
    "plotAll(G)"
   ]
  },
  {
   "cell_type": "markdown",
   "id": "3cc48e27",
   "metadata": {},
   "source": [
    "Forks network degree distribution:"
   ]
  },
  {
   "cell_type": "code",
   "execution_count": 16,
   "id": "de003ae6",
   "metadata": {},
   "outputs": [
    {
     "data": {
      "image/png": "[encoded data removed]",
      "text/plain": [
       "<Figure size 432x288 with 1 Axes>"
      ]
     },
     "metadata": {
      "needs_background": "light"
     },
     "output_type": "display_data"
    }
   ],
   "source": [
    "G = nx.read_edgelist('../networks/forks/edges.csv',\n",
    "                     create_using=nx.DiGraph(),delimiter = ', ')\n",
    "                     \n",
    "plotAll(G)"
   ]
  },
  {
   "cell_type": "code",
   "execution_count": null,
   "id": "002a5191",
   "metadata": {},
   "outputs": [],
   "source": []
  }
 ],
 "metadata": {
  "kernelspec": {
   "display_name": "Python 3.8.2 64-bit",
   "language": "python",
   "name": "python3"
  },
  "language_info": {
   "codemirror_mode": {
    "name": "ipython",
    "version": 3
   },
   "file_extension": ".py",
   "mimetype": "text/x-python",
   "name": "python",
   "nbconvert_exporter": "python",
   "pygments_lexer": "ipython3",
   "version": "3.8.2"
  },
  "vscode": {
   "interpreter": {
    "hash": "c1a861fee375196c46cdeb01b869c1a42d311c71f688a102f8d9e0d719c833cd"
   }
  }
 },
 "nbformat": 4,
 "nbformat_minor": 5
}
