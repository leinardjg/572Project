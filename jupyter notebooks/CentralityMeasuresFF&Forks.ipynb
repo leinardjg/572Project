{
 "cells": [
  {
   "cell_type": "code",
   "execution_count": 11,
   "id": "c1da18e8",
   "metadata": {},
   "outputs": [],
   "source": [
    "from random import sample\n",
    "import networkx as nx\n",
    "import matplotlib.pyplot as plt\n",
    "import networkx.algorithms.community as nx_comm\n"
   ]
  },
  {
   "cell_type": "code",
   "execution_count": 17,
   "id": "8691d416",
   "metadata": {},
   "outputs": [],
   "source": [
    "#G = nx.read_edgelist(\"WormNet.v3.benchmark.txt\")\n",
    "\n",
    "G = nx.read_edgelist('./edges.csv',\n",
    "                     create_using=nx.DiGraph(), delimiter = ', ')"
   ]
  },
  {
   "cell_type": "code",
   "execution_count": 4,
   "id": "a3bd9429",
   "metadata": {},
   "outputs": [],
   "source": [
    "def topTenWithValues(measure):\n",
    "    vk = {}\n",
    "    for k in sorted(measure, key=measure.get, reverse=True)[:10]:\n",
    "        v = measure[k]\n",
    "        vk[k] = v\n",
    "        \n",
    "        return v"
   ]
  },
  {
   "cell_type": "code",
   "execution_count": 4,
   "id": "4ad10a12",
   "metadata": {},
   "outputs": [],
   "source": [
    "def topTen(measure):\n",
    "    v = sorted(measure, key=measure.get, reverse=True)[:10]\n",
    "    return v"
   ]
  },
  {
   "cell_type": "code",
   "execution_count": 18,
   "id": "62fcc746",
   "metadata": {},
   "outputs": [],
   "source": [
    "# calculating largest strongly connected component\n",
    "    \n",
    "components = nx.strongly_connected_components(G)\n",
    "largest_component = max(components, key=len)\n",
    "SubG = G.subgraph(largest_component)"
   ]
  },
  {
   "cell_type": "code",
   "execution_count": 27,
   "id": "b7b864f5",
   "metadata": {},
   "outputs": [
    {
     "name": "stdout",
     "output_type": "stream",
     "text": [
      "hacfi\n",
      "javiereguiluz\n",
      "arthurnn\n",
      "harryadel\n",
      "yhirano55\n",
      "avalanche123\n",
      "hason\n",
      "oleg-andreyev\n",
      "ZYSzys\n",
      "KennedyTedesco\n"
     ]
    }
   ],
   "source": [
    "# Calc out-degree centrality of Largest SCC\n",
    "\n",
    "ODC = nx.out_degree_centrality(SubG)\n",
    "\n",
    "for i in topTen(ODC):\n",
    "    print(i)"
   ]
  },
  {
   "cell_type": "code",
   "execution_count": 28,
   "id": "bf9d1bc9",
   "metadata": {},
   "outputs": [
    {
     "name": "stdout",
     "output_type": "stream",
     "text": [
      "tj\n",
      "wycats\n",
      "tenderlove\n",
      "rauchg\n",
      "stof\n",
      "mitsuhiko\n",
      "yyx990803\n",
      "Ocramius\n",
      "webmozart\n",
      "lsmith77\n"
     ]
    }
   ],
   "source": [
    "# Calc in-degree centrality of Largest SCC\n",
    "\n",
    "IDC = nx.in_degree_centrality(SubG)\n",
    "\n",
    "for i in topTen(IDC):\n",
    "    print(i)"
   ]
  },
  {
   "cell_type": "code",
   "execution_count": 29,
   "id": "d574a677",
   "metadata": {},
   "outputs": [],
   "source": [
    "# Calculate  betweenness centrality\n",
    "\n",
    "b = nx.betweenness_centrality(SubG, k=300, endpoints=True)"
   ]
  },
  {
   "cell_type": "code",
   "execution_count": 22,
   "id": "f3ed8f26",
   "metadata": {},
   "outputs": [
    {
     "name": "stdout",
     "output_type": "stream",
     "text": [
      "rauchg\n",
      "arthurnn\n",
      "josh\n",
      "avalanche123\n",
      "lsmith77\n",
      "javiereguiluz\n",
      "benjamn\n",
      "Urigo\n",
      "daylerees\n",
      "philsturgeon\n"
     ]
    }
   ],
   "source": [
    "for i in topTen(b):\n",
    "    print(i)"
   ]
  },
  {
   "cell_type": "code",
   "execution_count": 404,
   "id": "2677a8c5",
   "metadata": {},
   "outputs": [],
   "source": [
    "#The closeness centrality uses inward distance to a node, not outward.\n",
    "#If you want to use outword distances apply the function to G.reverse()\n",
    "\n",
    "cc = nx.closeness_centrality(G)\n",
    "\n",
    "# Calculating CC for whole graph in reverse.\n",
    "cc = nx.closeness_centrality(G, distance=G.reverse())\n"
   ]
  },
  {
   "cell_type": "raw",
   "id": "6060a8a6",
   "metadata": {},
   "source": [
    "# If the graph is not completely connected, this algorithm computes the closeness centrality\n",
    "#for each connected part separately scaled by that parts size.\n",
    "\n",
    "# Calculating Largest Connected Component of the graph.\n"
   ]
  },
  {
   "cell_type": "code",
   "execution_count": null,
   "id": "b100b5d8",
   "metadata": {},
   "outputs": [],
   "source": [
    "cc = nx.closeness_centrality(SubG, distance=G.reverse())\n",
    "for i in topTen(cc):\n",
    "    print(i)"
   ]
  },
  {
   "cell_type": "raw",
   "id": "b08bf888",
   "metadata": {},
   "source": [
    "Now calculating centrality measure for Forks Network"
   ]
  },
  {
   "cell_type": "code",
   "execution_count": 13,
   "id": "0961325a",
   "metadata": {},
   "outputs": [],
   "source": [
    "#G = nx.read_edgelist(\"WormNet.v3.benchmark.txt\")\n",
    "\n",
    "G2 = nx.read_edgelist('./forks.csv',\n",
    "                     create_using=nx.DiGraph(), delimiter = ', ')"
   ]
  },
  {
   "cell_type": "code",
   "execution_count": 14,
   "id": "670efd0f",
   "metadata": {},
   "outputs": [],
   "source": [
    "# calculating largest strongly connected component\n",
    "    \n",
    "components = nx.strongly_connected_components(G2)\n",
    "largest_component = max(components, key=len)\n",
    "SubG2 = G2.subgraph(largest_component)"
   ]
  },
  {
   "cell_type": "code",
   "execution_count": 15,
   "id": "cb9ce91d",
   "metadata": {},
   "outputs": [
    {
     "name": "stdout",
     "output_type": "stream",
     "text": [
      "nvdnkpr\n",
      "cordoval\n",
      "pborreli\n",
      "Nyholm\n",
      "stof\n",
      "lyrixx\n",
      "szepeviktor\n",
      "parndt\n",
      "matthewmueller\n",
      "xabbuh\n"
     ]
    }
   ],
   "source": [
    "# Calc out-degree centrality of Largest SCC\n",
    "\n",
    "ODC = nx.out_degree_centrality(SubG2)\n",
    "\n",
    "for i in topTen(ODC):\n",
    "    print(i)"
   ]
  },
  {
   "cell_type": "code",
   "execution_count": 44,
   "id": "54c0b747",
   "metadata": {},
   "outputs": [
    {
     "name": "stdout",
     "output_type": "stream",
     "text": [
      "schmittjoh\n",
      "tj\n",
      "Seldaek\n",
      "mikel\n",
      "beberlei\n",
      "mperham\n",
      "kriswallsmith\n",
      "Ocramius\n",
      "isaacs\n",
      "tenderlove\n"
     ]
    }
   ],
   "source": [
    "# Calc in-degree centrality of Largest SCC\n",
    "\n",
    "IDC = nx.in_degree_centrality(SubG2)\n",
    "\n",
    "for i in topTen(IDC):\n",
    "    print(i)"
   ]
  },
  {
   "cell_type": "code",
   "execution_count": 7,
   "id": "f3b280aa",
   "metadata": {},
   "outputs": [
    {
     "name": "stdout",
     "output_type": "stream",
     "text": [
      "nvdnkpr\n",
      "Nyholm\n",
      "Seldaek\n",
      "matthewmueller\n",
      "adrienbrault\n",
      "umpirsky\n",
      "shanselman\n",
      "cordoval\n",
      "grosser\n",
      "schneems\n"
     ]
    }
   ],
   "source": [
    "# Calculate  betweenness centrality\n",
    "\n",
    "b = nx.betweenness_centrality(SubG2, k=300, weight='weights', endpoints=True)\n",
    "for i in topTen(b):\n",
    "    print(i)"
   ]
  },
  {
   "cell_type": "code",
   "execution_count": 20,
   "id": "5663693f",
   "metadata": {},
   "outputs": [
    {
     "name": "stdout",
     "output_type": "stream",
     "text": [
      "tj\n",
      "mikel\n",
      "defunctzombie\n",
      "ForbesLindesay\n",
      "mmalecki\n",
      "mperham\n",
      "Seldaek\n",
      "isaacs\n",
      "grosser\n",
      "madrobby\n"
     ]
    }
   ],
   "source": [
    "cc = nx.closeness_centrality(SubG2, distance=G2.reverse())\n",
    "for i in topTen(cc):\n",
    "    print(i)"
   ]
  }
 ],
 "metadata": {
  "kernelspec": {
   "display_name": "Python 3 (ipykernel)",
   "language": "python",
   "name": "python3"
  },
  "language_info": {
   "codemirror_mode": {
    "name": "ipython",
    "version": 3
   },
   "file_extension": ".py",
   "mimetype": "text/x-python",
   "name": "python",
   "nbconvert_exporter": "python",
   "pygments_lexer": "ipython3",
   "version": "3.9.12"
  }
 },
 "nbformat": 4,
 "nbformat_minor": 5
}
